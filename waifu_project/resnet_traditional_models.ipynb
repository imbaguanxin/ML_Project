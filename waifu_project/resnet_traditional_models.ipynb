{
 "cells": [
  {
   "cell_type": "code",
   "execution_count": 1,
   "metadata": {},
   "outputs": [],
   "source": [
    "import time\n",
    "import os\n",
    "import random\n",
    "import warnings\n",
    "import cv2\n",
    "import numpy as np\n",
    "import scipy.io as sio\n",
    "import matplotlib.pyplot as plt\n",
    "from mpl_toolkits.mplot3d import Axes3D\n",
    "from sklearn.discriminant_analysis import LinearDiscriminantAnalysis\n",
    "from sklearn.ensemble import RandomForestClassifier\n",
    "from sklearn.linear_model import LogisticRegression\n",
    "from sklearn.metrics import plot_confusion_matrix\n",
    "from sklearn.model_selection import train_test_split, KFold, cross_val_score\n",
    "from sklearn.naive_bayes import GaussianNB\n",
    "from sklearn.neighbors import KNeighborsClassifier\n",
    "from sklearn.preprocessing import MinMaxScaler\n",
    "from sklearn.svm import SVC\n",
    "from sklearn.tree import DecisionTreeClassifier\n",
    "import pandas as pd\n",
    "import plotly.express as px\n",
    "from data_cleaning import data_cleaning\n",
    "from data_loader import resnet_traditional_model\n",
    "\n",
    "test_size = 0.15\n",
    "seed = 9\n",
    "scoring = \"accuracy\""
   ]
  },
  {
   "cell_type": "markdown",
   "metadata": {},
   "source": [
    "## Cleaning data (no need to do if no new data is added)"
   ]
  },
  {
   "cell_type": "code",
   "execution_count": 2,
   "metadata": {},
   "outputs": [
    {
     "name": "stdout",
     "output_type": "stream",
     "text": [
      "[STATUS] copying pics in data_set\\self-collected\\002_0_tohsaka_rin_official to data_set\\modeling_data\\tohsaka_rin\n",
      "[STATUS] 002_0_tohsaka_rin_official copy work finished\n",
      "[STATUS] copying pics in data_set\\self-collected\\003_0_mato_sakura_official to data_set\\modeling_data\\mato_sakura\n",
      "[STATUS] 003_0_mato_sakura_official copy work finished\n",
      "[STATUS] copying pics in data_set\\self-collected\\004_0_illyasviel_von_einzbern_official to data_set\\modeling_data\\illyasviel_von_einzbern\n",
      "[STATUS] 004_0_illyasviel_von_einzbern_official copy work finished\n",
      "[STATUS] copying pics in data_set\\self-collected\\005_0_rider_medusa_official to data_set\\modeling_data\\rider_medusa\n",
      "[STATUS] 005_0_rider_medusa_official copy work finished\n",
      "[STATUS] copying pics in data_set\\self-collected\\006_0_misaka_mikoto_official to data_set\\modeling_data\\misaka_mikoto\n",
      "[STATUS] 006_0_misaka_mikoto_official copy work finished\n",
      "[STATUS] copying pics in data_set\\self-collected\\007_0_violet_evergarden_official to data_set\\modeling_data\\violet_evergarden\n",
      "[STATUS] 007_0_violet_evergarden_official copy work finished\n",
      "[STATUS] copying pics in data_set\\self-collected\\001_1_saber_arutoria_pendoragon_doujin to data_set\\modeling_data\\saber_arutoria_pendoragon\n",
      "[STATUS] 001_1_saber_arutoria_pendoragon_doujin copy work finished\n",
      "[STATUS] copying pics in data_set\\self-collected\\002_1_tohsaka_rin_doujin to data_set\\modeling_data\\tohsaka_rin\n",
      "[STATUS] 002_1_tohsaka_rin_doujin copy work finished\n",
      "[STATUS] copying pics in data_set\\self-collected\\003_1_mato_sakura_doujin to data_set\\modeling_data\\mato_sakura\n",
      "[STATUS] 003_1_mato_sakura_doujin copy work finished\n",
      "[STATUS] copying pics in data_set\\self-collected\\004_1_illyasviel_von_einzbern_doujin to data_set\\modeling_data\\illyasviel_von_einzbern\n",
      "[STATUS] 004_1_illyasviel_von_einzbern_doujin copy work finished\n",
      "[STATUS] copying pics in data_set\\self-collected\\005_1_rider_medusa_doujin to data_set\\modeling_data\\rider_medusa\n",
      "[STATUS] 005_1_rider_medusa_doujin copy work finished\n",
      "[STATUS] copying pics in data_set\\self-collected\\006_1_misaka_mikoto_doujin to data_set\\modeling_data\\misaka_mikoto\n",
      "[STATUS] 006_1_misaka_mikoto_doujin copy work finished\n",
      "[STATUS] copying pics in data_set\\self-collected\\007_1_violet_evergarden_doujin to data_set\\modeling_data\\violet_evergarden\n",
      "[STATUS] 007_1_violet_evergarden_doujin copy work finished\n"
     ]
    }
   ],
   "source": [
    "data_cleaning(False, True)"
   ]
  },
  {
   "cell_type": "code",
   "execution_count": 3,
   "metadata": {
    "scrolled": true
   },
   "outputs": [
    {
     "name": "stdout",
     "output_type": "stream",
     "text": [
      "[STATUS] Using device: cuda:0\n",
      "[STATUS] 1/7 Processing illyasviel_von_einzbern\n",
      "[STATUS] 2/7 Processing mato_sakura\n",
      "[STATUS] 3/7 Processing misaka_mikoto\n",
      "[STATUS] 4/7 Processing rider_medusa\n",
      "[STATUS] 5/7 Processing saber_arutoria_pendoragon\n",
      "[STATUS] 6/7 Processing tohsaka_rin\n",
      "[STATUS] 7/7 Processing violet_evergarden\n",
      "[STATUS] Feature extraction complete in 0m 22s\n",
      "[STATUS] feature vector shape: (791, 1000)\n",
      "[STATUS] label vector shape: (791,)\n",
      "[STATUS] training labels encoded.\n",
      "[STATUS] save to data_set\\resnet_img_feature.mat\n"
     ]
    }
   ],
   "source": [
    "warnings.filterwarnings('ignore')\n",
    "loader = resnet_traditional_model()\n",
    "loader.write()"
   ]
  },
  {
   "cell_type": "markdown",
   "metadata": {},
   "source": [
    "### load saved data"
   ]
  },
  {
   "cell_type": "code",
   "execution_count": 4,
   "metadata": {},
   "outputs": [],
   "source": [
    "data = sio.loadmat(os.path.join('data_set', 'resnet_img_feature.mat'))"
   ]
  },
  {
   "cell_type": "markdown",
   "metadata": {},
   "source": [
    "### normalize data"
   ]
  },
  {
   "cell_type": "code",
   "execution_count": 5,
   "metadata": {},
   "outputs": [
    {
     "name": "stdout",
     "output_type": "stream",
     "text": [
      "[STATUS] feature vector normalized.\n"
     ]
    }
   ],
   "source": [
    "normalizer = MinMaxScaler(feature_range=(0, 1))\n",
    "img_feature = normalizer.fit_transform(data['resnet_feature'])\n",
    "name_label_map = data['names']\n",
    "print(\"[STATUS] feature vector normalized.\")"
   ]
  },
  {
   "cell_type": "markdown",
   "metadata": {},
   "source": [
    "### Train test split"
   ]
  },
  {
   "cell_type": "code",
   "execution_count": 6,
   "metadata": {},
   "outputs": [
    {
     "name": "stdout",
     "output_type": "stream",
     "text": [
      "[STATUS] split train and test data.\n",
      "Train data   : (672, 1000)\n",
      "Test data    : (119, 1000)\n",
      "Train labels : (672,)\n",
      "Test labels  : (119,)\n"
     ]
    }
   ],
   "source": [
    "fv_trn, fv_tst, fv_l_trn, fv_l_tst = train_test_split(img_feature,\n",
    "                                                      data['labels'][0],\n",
    "                                                      test_size=test_size,\n",
    "                                                      random_state=seed)\n",
    "print(\"[STATUS] split train and test data.\")\n",
    "print(\"Train data   : {}\".format(fv_trn.shape))\n",
    "print(\"Test data    : {}\".format(fv_tst.shape))\n",
    "print(\"Train labels : {}\".format(fv_l_trn.shape))\n",
    "print(\"Test labels  : {}\".format(fv_l_tst.shape))"
   ]
  },
  {
   "cell_type": "markdown",
   "metadata": {},
   "source": [
    "## Hyper parameter Tuning\n",
    "\n",
    "### Logistic Regression:\n",
    "\n",
    "1. Penalty Function\n",
    "\n",
    "2. C"
   ]
  },
  {
   "cell_type": "code",
   "execution_count": 7,
   "metadata": {},
   "outputs": [],
   "source": [
    "MAX_ITER = 10000 # tunned, no change after 100\n",
    "TOL = 1e-4 # tunned, no change\n",
    "C = 1.8 # tunned"
   ]
  },
  {
   "cell_type": "code",
   "execution_count": 8,
   "metadata": {},
   "outputs": [
    {
     "name": "stdout",
     "output_type": "stream",
     "text": [
      "[CROSS_VAL_SCORE] Training 1.5 : accuracy: 0.912, std: 0.013\n",
      "[TIME_CONSUMPTION] Finishing in 0m 3s\n",
      "[CROSS_VAL_SCORE] Training 1.6 : accuracy: 0.912, std: 0.013\n",
      "[TIME_CONSUMPTION] Finishing in 0m 3s\n",
      "[CROSS_VAL_SCORE] Training 1.7 : accuracy: 0.912, std: 0.013\n",
      "[TIME_CONSUMPTION] Finishing in 0m 3s\n",
      "[CROSS_VAL_SCORE] Training 1.8 : accuracy: 0.912, std: 0.013\n",
      "[TIME_CONSUMPTION] Finishing in 0m 3s\n",
      "[CROSS_VAL_SCORE] Training 1.9 : accuracy: 0.912, std: 0.013\n",
      "[TIME_CONSUMPTION] Finishing in 0m 3s\n",
      "[CROSS_VAL_SCORE] Training 2.0 : accuracy: 0.912, std: 0.013\n",
      "[TIME_CONSUMPTION] Finishing in 0m 3s\n",
      "[CROSS_VAL_SCORE] Training 2.1 : accuracy: 0.912, std: 0.013\n",
      "[TIME_CONSUMPTION] Finishing in 0m 3s\n",
      "[CROSS_VAL_SCORE] Training 2.2 : accuracy: 0.912, std: 0.013\n",
      "[TIME_CONSUMPTION] Finishing in 0m 3s\n",
      "[CROSS_VAL_SCORE] Training 2.3 : accuracy: 0.912, std: 0.013\n",
      "[TIME_CONSUMPTION] Finishing in 0m 3s\n",
      "[CROSS_VAL_SCORE] Training 2.4 : accuracy: 0.912, std: 0.013\n",
      "[TIME_CONSUMPTION] Finishing in 0m 3s\n",
      "[CROSS_VAL_SCORE] Training 1.5 : accuracy: 0.897, std: 0.036\n",
      "[TIME_CONSUMPTION] Finishing in 0m 0s\n",
      "[CROSS_VAL_SCORE] Training 1.6 : accuracy: 0.897, std: 0.036\n",
      "[TIME_CONSUMPTION] Finishing in 0m 0s\n",
      "[CROSS_VAL_SCORE] Training 1.7 : accuracy: 0.897, std: 0.036\n",
      "[TIME_CONSUMPTION] Finishing in 0m 0s\n",
      "[CROSS_VAL_SCORE] Training 1.8 : accuracy: 0.897, std: 0.036\n",
      "[TIME_CONSUMPTION] Finishing in 0m 0s\n",
      "[CROSS_VAL_SCORE] Training 1.9 : accuracy: 0.897, std: 0.036\n",
      "[TIME_CONSUMPTION] Finishing in 0m 0s\n",
      "[CROSS_VAL_SCORE] Training 2.0 : accuracy: 0.897, std: 0.036\n",
      "[TIME_CONSUMPTION] Finishing in 0m 0s\n",
      "[CROSS_VAL_SCORE] Training 2.1 : accuracy: 0.897, std: 0.036\n",
      "[TIME_CONSUMPTION] Finishing in 0m 0s\n",
      "[CROSS_VAL_SCORE] Training 2.2 : accuracy: 0.897, std: 0.036\n",
      "[TIME_CONSUMPTION] Finishing in 0m 0s\n",
      "[CROSS_VAL_SCORE] Training 2.3 : accuracy: 0.897, std: 0.036\n",
      "[TIME_CONSUMPTION] Finishing in 0m 0s\n",
      "[CROSS_VAL_SCORE] Training 2.4 : accuracy: 0.897, std: 0.036\n",
      "[TIME_CONSUMPTION] Finishing in 0m 0s\n"
     ]
    }
   ],
   "source": [
    "# Penalty Function\n",
    "list_p = [\"l2\", \"none\"]\n",
    "list_c = np.linspace(1.5, 2.4, 10)\n",
    "\n",
    "p_models = dict()\n",
    "\n",
    "for i in list_p:\n",
    "    p_models[i] = dict()\n",
    "    for c in list_c:\n",
    "        p_models[i][c] =  LogisticRegression(penalty=i, max_iter=MAX_ITER, random_state=seed,\n",
    "                                             tol=TOL, C=c, warm_start=True)\n",
    "\n",
    "p_results = {'l2': [], \"none\": []}\n",
    "p_names = {'l2': [], \"none\": []}\n",
    "\n",
    "for penalty in p_models:\n",
    "    for name, model in p_models[penalty].items():\n",
    "        since = time.time()\n",
    "        kf = KFold(n_splits=4, shuffle=True, random_state=seed)\n",
    "        cv_results = cross_val_score(model, fv_trn, fv_l_trn, cv=kf, scoring=scoring)\n",
    "        p_results[penalty].append(cv_results)\n",
    "        p_names[penalty].append(name)\n",
    "        print(\"[CROSS_VAL_SCORE] Training {} : accuracy: {:.3f}, std: {:.3f}\".format(name,\n",
    "                                                                                     cv_results.mean(),\n",
    "                                                                                     cv_results.std()))\n",
    "        time_elapsed = time.time() - since\n",
    "        print('[TIME_CONSUMPTION] Finishing in {:.0f}m {:.0f}s'.format(time_elapsed // 60,\n",
    "                                                                       time_elapsed % 60))"
   ]
  },
  {
   "cell_type": "code",
   "execution_count": 9,
   "metadata": {},
   "outputs": [
    {
     "data": {
      "image/png": "[encoded data removed]",
      "text/plain": [
       "<Figure size 432x288 with 2 Axes>"
      ]
     },
     "metadata": {
      "needs_background": "light"
     },
     "output_type": "display_data"
    }
   ],
   "source": [
    "fig, (ax1, ax2) = plt.subplots(1, 2)\n",
    "fig.suptitle('Horizontally stacked subplots')\n",
    "ax1.boxplot(p_results['l2'])\n",
    "ax1.set_xticklabels(p_names['l2'])\n",
    "ax2.boxplot(p_results['none'])\n",
    "ax2.set_xticklabels(p_names['none'])\n",
    "plt.show()"
   ]
  },
  {
   "cell_type": "code",
   "execution_count": 10,
   "metadata": {
    "scrolled": false
   },
   "outputs": [
    {
     "name": "stdout",
     "output_type": "stream",
     "text": [
      "[CROSS_VAL_SCORE] Training 0.1 : accuracy: 0.902, std: 0.018\n",
      "[TIME_CONSUMPTION] Finishing in 0m 1s\n",
      "[CROSS_VAL_SCORE] Training 0.2 : accuracy: 0.912, std: 0.018\n",
      "[TIME_CONSUMPTION] Finishing in 0m 2s\n",
      "[CROSS_VAL_SCORE] Training 0.30000000000000004 : accuracy: 0.909, std: 0.016\n",
      "[TIME_CONSUMPTION] Finishing in 0m 2s\n",
      "[CROSS_VAL_SCORE] Training 0.4 : accuracy: 0.911, std: 0.015\n",
      "[TIME_CONSUMPTION] Finishing in 0m 2s\n",
      "[CROSS_VAL_SCORE] Training 0.5 : accuracy: 0.911, std: 0.015\n",
      "[TIME_CONSUMPTION] Finishing in 0m 2s\n",
      "[CROSS_VAL_SCORE] Training 0.6 : accuracy: 0.912, std: 0.015\n",
      "[TIME_CONSUMPTION] Finishing in 0m 2s\n",
      "[CROSS_VAL_SCORE] Training 0.7000000000000001 : accuracy: 0.912, std: 0.014\n",
      "[TIME_CONSUMPTION] Finishing in 0m 2s\n",
      "[CROSS_VAL_SCORE] Training 0.8 : accuracy: 0.912, std: 0.013\n",
      "[TIME_CONSUMPTION] Finishing in 0m 2s\n",
      "[CROSS_VAL_SCORE] Training 0.9 : accuracy: 0.914, std: 0.013\n",
      "[TIME_CONSUMPTION] Finishing in 0m 2s\n",
      "[CROSS_VAL_SCORE] Training 1.0 : accuracy: 0.914, std: 0.013\n",
      "[TIME_CONSUMPTION] Finishing in 0m 2s\n",
      "[CROSS_VAL_SCORE] Training 1.1 : accuracy: 0.914, std: 0.013\n",
      "[TIME_CONSUMPTION] Finishing in 0m 2s\n",
      "[CROSS_VAL_SCORE] Training 1.2000000000000002 : accuracy: 0.914, std: 0.013\n",
      "[TIME_CONSUMPTION] Finishing in 0m 2s\n",
      "[CROSS_VAL_SCORE] Training 1.3000000000000003 : accuracy: 0.914, std: 0.013\n",
      "[TIME_CONSUMPTION] Finishing in 0m 2s\n",
      "[CROSS_VAL_SCORE] Training 1.4000000000000001 : accuracy: 0.912, std: 0.013\n",
      "[TIME_CONSUMPTION] Finishing in 0m 2s\n",
      "[CROSS_VAL_SCORE] Training 1.5000000000000002 : accuracy: 0.912, std: 0.013\n",
      "[TIME_CONSUMPTION] Finishing in 0m 2s\n",
      "[CROSS_VAL_SCORE] Training 1.6 : accuracy: 0.912, std: 0.013\n",
      "[TIME_CONSUMPTION] Finishing in 0m 2s\n",
      "[CROSS_VAL_SCORE] Training 1.7000000000000002 : accuracy: 0.912, std: 0.013\n",
      "[TIME_CONSUMPTION] Finishing in 0m 2s\n",
      "[CROSS_VAL_SCORE] Training 1.8000000000000003 : accuracy: 0.912, std: 0.013\n",
      "[TIME_CONSUMPTION] Finishing in 0m 2s\n",
      "[CROSS_VAL_SCORE] Training 1.9000000000000001 : accuracy: 0.912, std: 0.013\n",
      "[TIME_CONSUMPTION] Finishing in 0m 2s\n",
      "[CROSS_VAL_SCORE] Training 2.0 : accuracy: 0.912, std: 0.013\n",
      "[TIME_CONSUMPTION] Finishing in 0m 2s\n",
      "[CROSS_VAL_SCORE] Training 2.1 : accuracy: 0.912, std: 0.013\n",
      "[TIME_CONSUMPTION] Finishing in 0m 2s\n",
      "[CROSS_VAL_SCORE] Training 2.2 : accuracy: 0.912, std: 0.013\n",
      "[TIME_CONSUMPTION] Finishing in 0m 2s\n",
      "[CROSS_VAL_SCORE] Training 2.3000000000000003 : accuracy: 0.912, std: 0.013\n",
      "[TIME_CONSUMPTION] Finishing in 0m 2s\n",
      "[CROSS_VAL_SCORE] Training 2.4000000000000004 : accuracy: 0.912, std: 0.013\n",
      "[TIME_CONSUMPTION] Finishing in 0m 2s\n",
      "[CROSS_VAL_SCORE] Training 2.5000000000000004 : accuracy: 0.912, std: 0.013\n",
      "[TIME_CONSUMPTION] Finishing in 0m 2s\n",
      "[CROSS_VAL_SCORE] Training 2.6 : accuracy: 0.912, std: 0.013\n",
      "[TIME_CONSUMPTION] Finishing in 0m 2s\n",
      "[CROSS_VAL_SCORE] Training 2.7 : accuracy: 0.912, std: 0.013\n",
      "[TIME_CONSUMPTION] Finishing in 0m 2s\n",
      "[CROSS_VAL_SCORE] Training 2.8000000000000003 : accuracy: 0.912, std: 0.013\n",
      "[TIME_CONSUMPTION] Finishing in 0m 3s\n",
      "[CROSS_VAL_SCORE] Training 2.9000000000000004 : accuracy: 0.912, std: 0.013\n",
      "[TIME_CONSUMPTION] Finishing in 0m 3s\n",
      "[CROSS_VAL_SCORE] Training 3.0000000000000004 : accuracy: 0.912, std: 0.013\n",
      "[TIME_CONSUMPTION] Finishing in 0m 2s\n",
      "[CROSS_VAL_SCORE] Training 3.1 : accuracy: 0.912, std: 0.013\n",
      "[TIME_CONSUMPTION] Finishing in 0m 2s\n",
      "[CROSS_VAL_SCORE] Training 3.2 : accuracy: 0.912, std: 0.013\n",
      "[TIME_CONSUMPTION] Finishing in 0m 3s\n",
      "[CROSS_VAL_SCORE] Training 3.3000000000000003 : accuracy: 0.912, std: 0.013\n",
      "[TIME_CONSUMPTION] Finishing in 0m 3s\n",
      "[CROSS_VAL_SCORE] Training 3.4000000000000004 : accuracy: 0.912, std: 0.013\n",
      "[TIME_CONSUMPTION] Finishing in 0m 2s\n",
      "[CROSS_VAL_SCORE] Training 3.5000000000000004 : accuracy: 0.912, std: 0.013\n",
      "[TIME_CONSUMPTION] Finishing in 0m 2s\n",
      "[CROSS_VAL_SCORE] Training 3.6 : accuracy: 0.912, std: 0.013\n",
      "[TIME_CONSUMPTION] Finishing in 0m 3s\n",
      "[CROSS_VAL_SCORE] Training 3.7 : accuracy: 0.912, std: 0.013\n",
      "[TIME_CONSUMPTION] Finishing in 0m 2s\n",
      "[CROSS_VAL_SCORE] Training 3.8000000000000003 : accuracy: 0.912, std: 0.013\n",
      "[TIME_CONSUMPTION] Finishing in 0m 2s\n",
      "[CROSS_VAL_SCORE] Training 3.9000000000000004 : accuracy: 0.912, std: 0.013\n",
      "[TIME_CONSUMPTION] Finishing in 0m 2s\n",
      "[CROSS_VAL_SCORE] Training 4.0 : accuracy: 0.912, std: 0.013\n",
      "[TIME_CONSUMPTION] Finishing in 0m 3s\n",
      "[CROSS_VAL_SCORE] Training 4.1 : accuracy: 0.912, std: 0.013\n",
      "[TIME_CONSUMPTION] Finishing in 0m 2s\n",
      "[CROSS_VAL_SCORE] Training 4.2 : accuracy: 0.912, std: 0.013\n",
      "[TIME_CONSUMPTION] Finishing in 0m 3s\n",
      "[CROSS_VAL_SCORE] Training 4.3 : accuracy: 0.909, std: 0.015\n",
      "[TIME_CONSUMPTION] Finishing in 0m 2s\n",
      "[CROSS_VAL_SCORE] Training 4.3999999999999995 : accuracy: 0.909, std: 0.015\n",
      "[TIME_CONSUMPTION] Finishing in 0m 3s\n",
      "[CROSS_VAL_SCORE] Training 4.5 : accuracy: 0.909, std: 0.015\n",
      "[TIME_CONSUMPTION] Finishing in 0m 3s\n",
      "[CROSS_VAL_SCORE] Training 4.6 : accuracy: 0.909, std: 0.015\n",
      "[TIME_CONSUMPTION] Finishing in 0m 3s\n",
      "[CROSS_VAL_SCORE] Training 4.7 : accuracy: 0.908, std: 0.015\n",
      "[TIME_CONSUMPTION] Finishing in 0m 2s\n",
      "[CROSS_VAL_SCORE] Training 4.8 : accuracy: 0.908, std: 0.015\n",
      "[TIME_CONSUMPTION] Finishing in 0m 3s\n",
      "[CROSS_VAL_SCORE] Training 4.9 : accuracy: 0.908, std: 0.015\n",
      "[TIME_CONSUMPTION] Finishing in 0m 3s\n",
      "[CROSS_VAL_SCORE] Training 5.0 : accuracy: 0.908, std: 0.015\n",
      "[TIME_CONSUMPTION] Finishing in 0m 3s\n",
      "[CROSS_VAL_SCORE] Training 5.1 : accuracy: 0.908, std: 0.015\n",
      "[TIME_CONSUMPTION] Finishing in 0m 3s\n",
      "[CROSS_VAL_SCORE] Training 5.2 : accuracy: 0.908, std: 0.015\n",
      "[TIME_CONSUMPTION] Finishing in 0m 3s\n",
      "[CROSS_VAL_SCORE] Training 5.3 : accuracy: 0.908, std: 0.015\n",
      "[TIME_CONSUMPTION] Finishing in 0m 3s\n",
      "[CROSS_VAL_SCORE] Training 5.4 : accuracy: 0.908, std: 0.015\n",
      "[TIME_CONSUMPTION] Finishing in 0m 3s\n",
      "[CROSS_VAL_SCORE] Training 5.5 : accuracy: 0.908, std: 0.015\n",
      "[TIME_CONSUMPTION] Finishing in 0m 3s\n",
      "[CROSS_VAL_SCORE] Training 5.6 : accuracy: 0.908, std: 0.015\n",
      "[TIME_CONSUMPTION] Finishing in 0m 3s\n",
      "[CROSS_VAL_SCORE] Training 5.7 : accuracy: 0.908, std: 0.015\n",
      "[TIME_CONSUMPTION] Finishing in 0m 3s\n",
      "[CROSS_VAL_SCORE] Training 5.8 : accuracy: 0.908, std: 0.015\n",
      "[TIME_CONSUMPTION] Finishing in 0m 3s\n",
      "[CROSS_VAL_SCORE] Training 5.9 : accuracy: 0.908, std: 0.015\n",
      "[TIME_CONSUMPTION] Finishing in 0m 3s\n",
      "[CROSS_VAL_SCORE] Training 6.0 : accuracy: 0.908, std: 0.015\n",
      "[TIME_CONSUMPTION] Finishing in 0m 3s\n",
      "[CROSS_VAL_SCORE] Training 6.1 : accuracy: 0.908, std: 0.015\n",
      "[TIME_CONSUMPTION] Finishing in 0m 3s\n",
      "[CROSS_VAL_SCORE] Training 6.2 : accuracy: 0.908, std: 0.015\n",
      "[TIME_CONSUMPTION] Finishing in 0m 3s\n",
      "[CROSS_VAL_SCORE] Training 6.3 : accuracy: 0.908, std: 0.015\n",
      "[TIME_CONSUMPTION] Finishing in 0m 3s\n",
      "[CROSS_VAL_SCORE] Training 6.4 : accuracy: 0.908, std: 0.015\n",
      "[TIME_CONSUMPTION] Finishing in 0m 3s\n",
      "[CROSS_VAL_SCORE] Training 6.5 : accuracy: 0.908, std: 0.015\n",
      "[TIME_CONSUMPTION] Finishing in 0m 3s\n",
      "[CROSS_VAL_SCORE] Training 6.6 : accuracy: 0.908, std: 0.015\n",
      "[TIME_CONSUMPTION] Finishing in 0m 3s\n",
      "[CROSS_VAL_SCORE] Training 6.7 : accuracy: 0.908, std: 0.015\n",
      "[TIME_CONSUMPTION] Finishing in 0m 3s\n",
      "[CROSS_VAL_SCORE] Training 6.8 : accuracy: 0.908, std: 0.015\n",
      "[TIME_CONSUMPTION] Finishing in 0m 3s\n",
      "[CROSS_VAL_SCORE] Training 6.9 : accuracy: 0.908, std: 0.015\n",
      "[TIME_CONSUMPTION] Finishing in 0m 3s\n",
      "[CROSS_VAL_SCORE] Training 7.0 : accuracy: 0.906, std: 0.013\n",
      "[TIME_CONSUMPTION] Finishing in 0m 3s\n",
      "[CROSS_VAL_SCORE] Training 7.1 : accuracy: 0.906, std: 0.013\n",
      "[TIME_CONSUMPTION] Finishing in 0m 3s\n",
      "[CROSS_VAL_SCORE] Training 7.2 : accuracy: 0.906, std: 0.013\n",
      "[TIME_CONSUMPTION] Finishing in 0m 3s\n",
      "[CROSS_VAL_SCORE] Training 7.3 : accuracy: 0.906, std: 0.013\n",
      "[TIME_CONSUMPTION] Finishing in 0m 3s\n",
      "[CROSS_VAL_SCORE] Training 7.4 : accuracy: 0.906, std: 0.013\n",
      "[TIME_CONSUMPTION] Finishing in 0m 3s\n",
      "[CROSS_VAL_SCORE] Training 7.5 : accuracy: 0.906, std: 0.013\n",
      "[TIME_CONSUMPTION] Finishing in 0m 3s\n",
      "[CROSS_VAL_SCORE] Training 7.6 : accuracy: 0.906, std: 0.013\n",
      "[TIME_CONSUMPTION] Finishing in 0m 3s\n",
      "[CROSS_VAL_SCORE] Training 7.7 : accuracy: 0.906, std: 0.013\n",
      "[TIME_CONSUMPTION] Finishing in 0m 3s\n",
      "[CROSS_VAL_SCORE] Training 7.8 : accuracy: 0.906, std: 0.013\n",
      "[TIME_CONSUMPTION] Finishing in 0m 3s\n",
      "[CROSS_VAL_SCORE] Training 7.9 : accuracy: 0.906, std: 0.013\n",
      "[TIME_CONSUMPTION] Finishing in 0m 3s\n",
      "[CROSS_VAL_SCORE] Training 8.0 : accuracy: 0.906, std: 0.013\n",
      "[TIME_CONSUMPTION] Finishing in 0m 3s\n"
     ]
    },
    {
     "name": "stdout",
     "output_type": "stream",
     "text": [
      "[CROSS_VAL_SCORE] Training 8.1 : accuracy: 0.906, std: 0.013\n",
      "[TIME_CONSUMPTION] Finishing in 0m 3s\n",
      "[CROSS_VAL_SCORE] Training 8.2 : accuracy: 0.906, std: 0.013\n",
      "[TIME_CONSUMPTION] Finishing in 0m 3s\n",
      "[CROSS_VAL_SCORE] Training 8.3 : accuracy: 0.906, std: 0.013\n",
      "[TIME_CONSUMPTION] Finishing in 0m 3s\n",
      "[CROSS_VAL_SCORE] Training 8.4 : accuracy: 0.906, std: 0.013\n",
      "[TIME_CONSUMPTION] Finishing in 0m 3s\n",
      "[CROSS_VAL_SCORE] Training 8.5 : accuracy: 0.906, std: 0.013\n",
      "[TIME_CONSUMPTION] Finishing in 0m 3s\n",
      "[CROSS_VAL_SCORE] Training 8.6 : accuracy: 0.906, std: 0.013\n",
      "[TIME_CONSUMPTION] Finishing in 0m 3s\n",
      "[CROSS_VAL_SCORE] Training 8.7 : accuracy: 0.906, std: 0.013\n",
      "[TIME_CONSUMPTION] Finishing in 0m 3s\n",
      "[CROSS_VAL_SCORE] Training 8.8 : accuracy: 0.906, std: 0.013\n",
      "[TIME_CONSUMPTION] Finishing in 0m 3s\n",
      "[CROSS_VAL_SCORE] Training 8.9 : accuracy: 0.906, std: 0.013\n",
      "[TIME_CONSUMPTION] Finishing in 0m 3s\n",
      "[CROSS_VAL_SCORE] Training 9.0 : accuracy: 0.906, std: 0.013\n",
      "[TIME_CONSUMPTION] Finishing in 0m 3s\n",
      "[CROSS_VAL_SCORE] Training 9.1 : accuracy: 0.906, std: 0.013\n",
      "[TIME_CONSUMPTION] Finishing in 0m 3s\n",
      "[CROSS_VAL_SCORE] Training 9.2 : accuracy: 0.906, std: 0.013\n",
      "[TIME_CONSUMPTION] Finishing in 0m 3s\n",
      "[CROSS_VAL_SCORE] Training 9.3 : accuracy: 0.906, std: 0.013\n",
      "[TIME_CONSUMPTION] Finishing in 0m 3s\n",
      "[CROSS_VAL_SCORE] Training 9.4 : accuracy: 0.906, std: 0.013\n",
      "[TIME_CONSUMPTION] Finishing in 0m 3s\n",
      "[CROSS_VAL_SCORE] Training 9.5 : accuracy: 0.906, std: 0.013\n",
      "[TIME_CONSUMPTION] Finishing in 0m 3s\n",
      "[CROSS_VAL_SCORE] Training 9.6 : accuracy: 0.906, std: 0.013\n",
      "[TIME_CONSUMPTION] Finishing in 0m 3s\n",
      "[CROSS_VAL_SCORE] Training 9.700000000000001 : accuracy: 0.906, std: 0.013\n",
      "[TIME_CONSUMPTION] Finishing in 0m 3s\n",
      "[CROSS_VAL_SCORE] Training 9.8 : accuracy: 0.906, std: 0.013\n",
      "[TIME_CONSUMPTION] Finishing in 0m 3s\n",
      "[CROSS_VAL_SCORE] Training 9.9 : accuracy: 0.906, std: 0.013\n",
      "[TIME_CONSUMPTION] Finishing in 0m 3s\n",
      "[CROSS_VAL_SCORE] Training 10.0 : accuracy: 0.906, std: 0.013\n",
      "[TIME_CONSUMPTION] Finishing in 0m 3s\n"
     ]
    }
   ],
   "source": [
    "list_i = np.linspace(.1, 10., 100)\n",
    "\n",
    "c_models = {i: LogisticRegression(max_iter=MAX_ITER, random_state=seed, tol=TOL, C=i, warm_start=True)\n",
    "            for i in np.linspace(.1, 10, 100)}\n",
    "\n",
    "results = []\n",
    "names = []\n",
    "\n",
    "for name in c_models:\n",
    "    since = time.time()\n",
    "    model = c_models[name]\n",
    "    kf = KFold(n_splits=4, shuffle=True, random_state=seed)\n",
    "    cv_results = cross_val_score(model, fv_trn, fv_l_trn, cv=kf, scoring=scoring)\n",
    "    results.append(cv_results)\n",
    "    names.append(name)\n",
    "    print(\"[CROSS_VAL_SCORE] Training {} : accuracy: {:.3f}, std: {:.3f}\".format(name, cv_results.mean(), cv_results.std()))\n",
    "    time_elapsed = time.time() - since\n",
    "    print('[TIME_CONSUMPTION] Finishing in {:.0f}m {:.0f}s'.format(time_elapsed // 60, time_elapsed % 60))"
   ]
  },
  {
   "cell_type": "code",
   "execution_count": 11,
   "metadata": {},
   "outputs": [
    {
     "data": {
      "image/png": "[encoded data removed]",
      "text/plain": [
       "<Figure size 432x288 with 1 Axes>"
      ]
     },
     "metadata": {
      "needs_background": "light"
     },
     "output_type": "display_data"
    },
    {
     "data": {
      "image/png": "[encoded data removed]",
      "text/plain": [
       "<Figure size 432x288 with 1 Axes>"
      ]
     },
     "metadata": {
      "needs_background": "light"
     },
     "output_type": "display_data"
    }
   ],
   "source": [
    "fig = plt.figure()\n",
    "fig.suptitle('Machine Learning algorithm comparison on training set')\n",
    "ax = fig.add_subplot(111)\n",
    "plt.boxplot(results)\n",
    "ax.set_xticklabels(names)\n",
    "plt.xticks(rotation=-45)\n",
    "plt.show()\n",
    "\n",
    "accuracies = [r.mean() for r in results]\n",
    "plt.plot(list_i, accuracies)\n",
    "plt.show()"
   ]
  },
  {
   "cell_type": "markdown",
   "metadata": {},
   "source": [
    "### KNN hyperparam tunning\n",
    "\n",
    "K "
   ]
  },
  {
   "cell_type": "code",
   "execution_count": 12,
   "metadata": {},
   "outputs": [
    {
     "name": "stdout",
     "output_type": "stream",
     "text": [
      "[CROSS_VAL_SCORE] Training 1 : accuracy: 0.783, std: 0.016\n",
      "[TIME_CONSUMPTION] Finishing in 0m 1s\n",
      "[CROSS_VAL_SCORE] Training 2 : accuracy: 0.749, std: 0.030\n",
      "[TIME_CONSUMPTION] Finishing in 0m 1s\n",
      "[CROSS_VAL_SCORE] Training 3 : accuracy: 0.786, std: 0.018\n",
      "[TIME_CONSUMPTION] Finishing in 0m 1s\n",
      "[CROSS_VAL_SCORE] Training 4 : accuracy: 0.801, std: 0.023\n",
      "[TIME_CONSUMPTION] Finishing in 0m 1s\n",
      "[CROSS_VAL_SCORE] Training 5 : accuracy: 0.805, std: 0.015\n",
      "[TIME_CONSUMPTION] Finishing in 0m 1s\n",
      "[CROSS_VAL_SCORE] Training 6 : accuracy: 0.801, std: 0.019\n",
      "[TIME_CONSUMPTION] Finishing in 0m 1s\n",
      "[CROSS_VAL_SCORE] Training 7 : accuracy: 0.810, std: 0.021\n",
      "[TIME_CONSUMPTION] Finishing in 0m 1s\n",
      "[CROSS_VAL_SCORE] Training 8 : accuracy: 0.810, std: 0.033\n",
      "[TIME_CONSUMPTION] Finishing in 0m 1s\n",
      "[CROSS_VAL_SCORE] Training 9 : accuracy: 0.812, std: 0.030\n",
      "[TIME_CONSUMPTION] Finishing in 0m 1s\n",
      "[CROSS_VAL_SCORE] Training 10 : accuracy: 0.818, std: 0.026\n",
      "[TIME_CONSUMPTION] Finishing in 0m 1s\n",
      "[CROSS_VAL_SCORE] Training 11 : accuracy: 0.821, std: 0.025\n",
      "[TIME_CONSUMPTION] Finishing in 0m 1s\n",
      "[CROSS_VAL_SCORE] Training 12 : accuracy: 0.821, std: 0.013\n",
      "[TIME_CONSUMPTION] Finishing in 0m 1s\n",
      "[CROSS_VAL_SCORE] Training 13 : accuracy: 0.820, std: 0.017\n",
      "[TIME_CONSUMPTION] Finishing in 0m 1s\n",
      "[CROSS_VAL_SCORE] Training 14 : accuracy: 0.824, std: 0.021\n",
      "[TIME_CONSUMPTION] Finishing in 0m 1s\n",
      "[CROSS_VAL_SCORE] Training 15 : accuracy: 0.829, std: 0.017\n",
      "[TIME_CONSUMPTION] Finishing in 0m 1s\n",
      "[CROSS_VAL_SCORE] Training 16 : accuracy: 0.821, std: 0.020\n",
      "[TIME_CONSUMPTION] Finishing in 0m 1s\n",
      "[CROSS_VAL_SCORE] Training 17 : accuracy: 0.832, std: 0.020\n",
      "[TIME_CONSUMPTION] Finishing in 0m 1s\n",
      "[CROSS_VAL_SCORE] Training 18 : accuracy: 0.829, std: 0.016\n",
      "[TIME_CONSUMPTION] Finishing in 0m 1s\n",
      "[CROSS_VAL_SCORE] Training 19 : accuracy: 0.839, std: 0.023\n",
      "[TIME_CONSUMPTION] Finishing in 0m 1s\n",
      "[CROSS_VAL_SCORE] Training 20 : accuracy: 0.836, std: 0.021\n",
      "[TIME_CONSUMPTION] Finishing in 0m 1s\n",
      "[CROSS_VAL_SCORE] Training 21 : accuracy: 0.830, std: 0.019\n",
      "[TIME_CONSUMPTION] Finishing in 0m 1s\n",
      "[CROSS_VAL_SCORE] Training 22 : accuracy: 0.835, std: 0.019\n",
      "[TIME_CONSUMPTION] Finishing in 0m 1s\n",
      "[CROSS_VAL_SCORE] Training 23 : accuracy: 0.821, std: 0.033\n",
      "[TIME_CONSUMPTION] Finishing in 0m 1s\n",
      "[CROSS_VAL_SCORE] Training 24 : accuracy: 0.820, std: 0.032\n",
      "[TIME_CONSUMPTION] Finishing in 0m 1s\n",
      "[CROSS_VAL_SCORE] Training 25 : accuracy: 0.824, std: 0.030\n",
      "[TIME_CONSUMPTION] Finishing in 0m 1s\n",
      "[CROSS_VAL_SCORE] Training 26 : accuracy: 0.820, std: 0.030\n",
      "[TIME_CONSUMPTION] Finishing in 0m 1s\n",
      "[CROSS_VAL_SCORE] Training 27 : accuracy: 0.823, std: 0.027\n",
      "[TIME_CONSUMPTION] Finishing in 0m 1s\n",
      "[CROSS_VAL_SCORE] Training 28 : accuracy: 0.826, std: 0.029\n",
      "[TIME_CONSUMPTION] Finishing in 0m 1s\n",
      "[CROSS_VAL_SCORE] Training 29 : accuracy: 0.823, std: 0.023\n",
      "[TIME_CONSUMPTION] Finishing in 0m 1s\n"
     ]
    }
   ],
   "source": [
    "list_i = range(1, 30)\n",
    "\n",
    "k_models = {k: KNeighborsClassifier(n_neighbors=k) for k in list_i}\n",
    "\n",
    "results = []\n",
    "names = []\n",
    "\n",
    "for name in k_models:\n",
    "    since = time.time()\n",
    "    model = k_models[name]\n",
    "    kf = KFold(n_splits=4, shuffle=True, random_state=seed)\n",
    "    cv_results = cross_val_score(model, fv_trn, fv_l_trn, cv=kf, scoring=scoring)\n",
    "    results.append(cv_results)\n",
    "    names.append(name)\n",
    "    print(\"[CROSS_VAL_SCORE] Training {} : accuracy: {:.3f}, std: {:.3f}\".format(name, cv_results.mean(), cv_results.std()))\n",
    "    time_elapsed = time.time() - since\n",
    "    print('[TIME_CONSUMPTION] Finishing in {:.0f}m {:.0f}s'.format(time_elapsed // 60, time_elapsed % 60))\n",
    "    "
   ]
  },
  {
   "cell_type": "code",
   "execution_count": 13,
   "metadata": {},
   "outputs": [
    {
     "data": {
      "image/png": "[encoded data removed]",
      "text/plain": [
       "<Figure size 432x288 with 1 Axes>"
      ]
     },
     "metadata": {
      "needs_background": "light"
     },
     "output_type": "display_data"
    }
   ],
   "source": [
    "# def plot_hypertune(params, model_names, scores):\n",
    "fig = plt.figure()\n",
    "fig.suptitle('Machine Learning algorithm comparison on training set')\n",
    "ax = fig.add_subplot(111)\n",
    "plt.boxplot(results)\n",
    "ax.set_xticklabels(names)\n",
    "plt.xticks(rotation=-45)\n",
    "# plt.show()\n",
    "\n",
    "accuracies = [r.mean() for r in results]\n",
    "plt.plot(list_i, accuracies)\n",
    "plt.show()"
   ]
  },
  {
   "cell_type": "markdown",
   "metadata": {},
   "source": [
    "### Random Forest\n",
    "\n",
    "1. Error function\n",
    "2. n_estimators"
   ]
  },
  {
   "cell_type": "code",
   "execution_count": 14,
   "metadata": {},
   "outputs": [
    {
     "name": "stdout",
     "output_type": "stream",
     "text": [
      "[CROSS_VAL_SCORE] Training gini, n_estimators: 10.0, accuracy: 0.656, std: 0.026\n",
      "[TIME_CONSUMPTION] Finishing in 0m 0s\n",
      "[CROSS_VAL_SCORE] Training entropy, n_estimators: 10.0, accuracy: 0.707, std: 0.019\n",
      "[TIME_CONSUMPTION] Finishing in 0m 1s\n",
      "[CROSS_VAL_SCORE] Training gini, n_estimators: 50.0, accuracy: 0.804, std: 0.020\n",
      "[TIME_CONSUMPTION] Finishing in 0m 1s\n",
      "[CROSS_VAL_SCORE] Training entropy, n_estimators: 50.0, accuracy: 0.823, std: 0.028\n",
      "[TIME_CONSUMPTION] Finishing in 0m 2s\n",
      "[CROSS_VAL_SCORE] Training gini, n_estimators: 100.0, accuracy: 0.824, std: 0.014\n",
      "[TIME_CONSUMPTION] Finishing in 0m 2s\n",
      "[CROSS_VAL_SCORE] Training entropy, n_estimators: 100.0, accuracy: 0.823, std: 0.024\n",
      "[TIME_CONSUMPTION] Finishing in 0m 5s\n",
      "[CROSS_VAL_SCORE] Training gini, n_estimators: 500.0, accuracy: 0.839, std: 0.017\n",
      "[TIME_CONSUMPTION] Finishing in 0m 11s\n",
      "[CROSS_VAL_SCORE] Training entropy, n_estimators: 500.0, accuracy: 0.842, std: 0.016\n",
      "[TIME_CONSUMPTION] Finishing in 0m 25s\n",
      "[CROSS_VAL_SCORE] Training gini, n_estimators: 600.0, accuracy: 0.842, std: 0.012\n",
      "[TIME_CONSUMPTION] Finishing in 0m 13s\n",
      "[CROSS_VAL_SCORE] Training entropy, n_estimators: 600.0, accuracy: 0.839, std: 0.015\n",
      "[TIME_CONSUMPTION] Finishing in 0m 30s\n",
      "[CROSS_VAL_SCORE] Training gini, n_estimators: 825.0, accuracy: 0.842, std: 0.011\n",
      "[TIME_CONSUMPTION] Finishing in 0m 19s\n",
      "[CROSS_VAL_SCORE] Training entropy, n_estimators: 825.0, accuracy: 0.839, std: 0.013\n",
      "[TIME_CONSUMPTION] Finishing in 0m 42s\n",
      "[CROSS_VAL_SCORE] Training gini, n_estimators: 1050.0, accuracy: 0.841, std: 0.019\n",
      "[TIME_CONSUMPTION] Finishing in 0m 24s\n",
      "[CROSS_VAL_SCORE] Training entropy, n_estimators: 1050.0, accuracy: 0.845, std: 0.013\n",
      "[TIME_CONSUMPTION] Finishing in 0m 54s\n",
      "[CROSS_VAL_SCORE] Training gini, n_estimators: 1275.0, accuracy: 0.836, std: 0.015\n",
      "[TIME_CONSUMPTION] Finishing in 0m 29s\n",
      "[CROSS_VAL_SCORE] Training entropy, n_estimators: 1275.0, accuracy: 0.847, std: 0.019\n",
      "[TIME_CONSUMPTION] Finishing in 1m 6s\n",
      "[CROSS_VAL_SCORE] Training gini, n_estimators: 1500.0, accuracy: 0.844, std: 0.018\n",
      "[TIME_CONSUMPTION] Finishing in 0m 34s\n",
      "[CROSS_VAL_SCORE] Training entropy, n_estimators: 1500.0, accuracy: 0.848, std: 0.017\n",
      "[TIME_CONSUMPTION] Finishing in 1m 20s\n"
     ]
    }
   ],
   "source": [
    "rf_gini_acc = []\n",
    "rf_gini_time_list = []\n",
    "rf_entropy_acc = []\n",
    "rf_entropy_time_list = []\n",
    "rf_loss_f_n_list = np.hstack([np.array([10,50,100,500]),np.linspace(600,1500,num=5)])\n",
    "for n in rf_loss_f_n_list:\n",
    "    since = time.time()\n",
    "    kf = KFold(n_splits=4, shuffle=True, random_state=seed)\n",
    "    model = RandomForestClassifier(n_estimators = int(n), criterion='gini')\n",
    "    cv_results = cross_val_score(model, fv_trn, fv_l_trn, cv=kf, scoring=scoring)\n",
    "    print(\"[CROSS_VAL_SCORE] Training gini, n_estimators: {}, accuracy: {:.3f}, std: {:.3f}\".format(n, cv_results.mean(), cv_results.std()))\n",
    "    time_elapsed = time.time() - since\n",
    "    rf_gini_time_list.append(time_elapsed)\n",
    "    rf_gini_acc.append(cv_results)\n",
    "    print('[TIME_CONSUMPTION] Finishing in {:.0f}m {:.0f}s'.format(time_elapsed // 60, time_elapsed % 60))\n",
    "    \n",
    "    since = time.time()\n",
    "    kf = KFold(n_splits=4, shuffle=True, random_state=seed)\n",
    "    model = RandomForestClassifier(n_estimators = int(n), criterion='entropy')\n",
    "    cv_results = cross_val_score(model, fv_trn, fv_l_trn, cv=kf, scoring=scoring)\n",
    "    print(\"[CROSS_VAL_SCORE] Training entropy, n_estimators: {}, accuracy: {:.3f}, std: {:.3f}\".format(n, cv_results.mean(), cv_results.std()))\n",
    "    time_elapsed = time.time() - since\n",
    "    rf_entropy_time_list.append(time_elapsed)\n",
    "    rf_entropy_acc.append(cv_results)\n",
    "    print('[TIME_CONSUMPTION] Finishing in {:.0f}m {:.0f}s'.format(time_elapsed // 60, time_elapsed % 60))"
   ]
  },
  {
   "cell_type": "code",
   "execution_count": 16,
   "metadata": {},
   "outputs": [
    {
     "data": {
      "image/png": "[encoded data removed]",
      "text/plain": [
       "<Figure size 432x288 with 4 Axes>"
      ]
     },
     "metadata": {
      "needs_background": "light"
     },
     "output_type": "display_data"
    }
   ],
   "source": [
    "fig = plt.figure(constrained_layout=True)\n",
    "gs = fig.add_gridspec(6, 2)\n",
    "fig.suptitle('Random Forest Accuracy and Time on Loss Function', fontsize='x-large')\n",
    "\n",
    "ax1 = fig.add_subplot(gs[0:3,0])\n",
    "plt.boxplot(rf_gini_acc)\n",
    "ax1.set_xticklabels([int(x) for x in rf_loss_f_n_list])\n",
    "plt.title('Gini Impurity')\n",
    "plt.xticks(rotation=45, horizontalalignment=\"center\")\n",
    "\n",
    "ax2 = fig.add_subplot(gs[0:3,1 ])\n",
    "plt.boxplot(rf_entropy_acc)\n",
    "ax2.set_xticklabels([int(x) for x in rf_loss_f_n_list])\n",
    "plt.title('Entropy: Information Gain')\n",
    "plt.xticks(rotation=45, horizontalalignment=\"center\")\n",
    "\n",
    "ax3 = fig.add_subplot(gs[3:6,0])\n",
    "plt.title('Accuracy: Gini VS Entropy')\n",
    "plt.plot([str(int(x)) for x in rf_loss_f_n_list], [x.mean() for x in rf_gini_acc], c='r', label='Gini')\n",
    "plt.plot([str(int(x)) for x in rf_loss_f_n_list], [x.mean() for x in rf_entropy_acc], c='b', label='Entropy')\n",
    "plt.legend()\n",
    "plt.xticks(rotation=45, horizontalalignment=\"center\")\n",
    "\n",
    "ax3 = fig.add_subplot(gs[3:6,1])\n",
    "plt.title('Time: Gini VS Entropy')\n",
    "plt.plot([str(int(x)) for x in rf_loss_f_n_list], rf_gini_time_list, c='r', label='Gini')\n",
    "plt.plot([str(int(x)) for x in rf_loss_f_n_list], rf_entropy_time_list, c='b', label='Entropy')\n",
    "plt.legend()\n",
    "plt.xticks(rotation=45, horizontalalignment=\"center\")\n",
    "plt.show()"
   ]
  },
  {
   "cell_type": "code",
   "execution_count": 18,
   "metadata": {},
   "outputs": [
    {
     "name": "stdout",
     "output_type": "stream",
     "text": [
      "[CROSS_VAL_SCORE] Training n_estimators: 10.0 : accuracy: 0.689, std: 0.025\n",
      "[TIME_CONSUMPTION] Finishing in 0m 0s\n",
      "[CROSS_VAL_SCORE] Training n_estimators: 50.0 : accuracy: 0.810, std: 0.022\n",
      "[TIME_CONSUMPTION] Finishing in 0m 1s\n",
      "[CROSS_VAL_SCORE] Training n_estimators: 100.0 : accuracy: 0.827, std: 0.015\n",
      "[TIME_CONSUMPTION] Finishing in 0m 2s\n",
      "[CROSS_VAL_SCORE] Training n_estimators: 500.0 : accuracy: 0.848, std: 0.019\n",
      "[TIME_CONSUMPTION] Finishing in 0m 12s\n",
      "[CROSS_VAL_SCORE] Training n_estimators: 600.0 : accuracy: 0.833, std: 0.012\n",
      "[TIME_CONSUMPTION] Finishing in 0m 14s\n",
      "[CROSS_VAL_SCORE] Training n_estimators: 800.0 : accuracy: 0.844, std: 0.015\n",
      "[TIME_CONSUMPTION] Finishing in 0m 18s\n",
      "[CROSS_VAL_SCORE] Training n_estimators: 1000.0 : accuracy: 0.845, std: 0.019\n",
      "[TIME_CONSUMPTION] Finishing in 0m 23s\n",
      "[CROSS_VAL_SCORE] Training n_estimators: 1200.0 : accuracy: 0.841, std: 0.011\n",
      "[TIME_CONSUMPTION] Finishing in 0m 28s\n",
      "[CROSS_VAL_SCORE] Training n_estimators: 1400.0 : accuracy: 0.842, std: 0.018\n",
      "[TIME_CONSUMPTION] Finishing in 0m 32s\n",
      "[CROSS_VAL_SCORE] Training n_estimators: 3000.0 : accuracy: 0.850, std: 0.020\n",
      "[TIME_CONSUMPTION] Finishing in 1m 10s\n"
     ]
    },
    {
     "ename": "KeyboardInterrupt",
     "evalue": "",
     "output_type": "error",
     "traceback": [
      "\u001b[1;31m---------------------------------------------------------------------------\u001b[0m",
      "\u001b[1;31mKeyboardInterrupt\u001b[0m                         Traceback (most recent call last)",
      "\u001b[1;32m<ipython-input-18-515a5ae0d379>\u001b[0m in \u001b[0;36m<module>\u001b[1;34m\u001b[0m\n\u001b[0;32m      6\u001b[0m     \u001b[0mkf\u001b[0m \u001b[1;33m=\u001b[0m \u001b[0mKFold\u001b[0m\u001b[1;33m(\u001b[0m\u001b[0mn_splits\u001b[0m\u001b[1;33m=\u001b[0m\u001b[1;36m4\u001b[0m\u001b[1;33m,\u001b[0m \u001b[0mshuffle\u001b[0m\u001b[1;33m=\u001b[0m\u001b[1;32mTrue\u001b[0m\u001b[1;33m,\u001b[0m \u001b[0mrandom_state\u001b[0m\u001b[1;33m=\u001b[0m\u001b[0mseed\u001b[0m\u001b[1;33m)\u001b[0m\u001b[1;33m\u001b[0m\u001b[1;33m\u001b[0m\u001b[0m\n\u001b[0;32m      7\u001b[0m     \u001b[0mmodel\u001b[0m \u001b[1;33m=\u001b[0m \u001b[0mRandomForestClassifier\u001b[0m\u001b[1;33m(\u001b[0m\u001b[0mn_estimators\u001b[0m \u001b[1;33m=\u001b[0m \u001b[0mint\u001b[0m\u001b[1;33m(\u001b[0m\u001b[0mn\u001b[0m\u001b[1;33m)\u001b[0m\u001b[1;33m,\u001b[0m \u001b[0mcriterion\u001b[0m\u001b[1;33m=\u001b[0m\u001b[1;34m'gini'\u001b[0m\u001b[1;33m)\u001b[0m\u001b[1;33m\u001b[0m\u001b[1;33m\u001b[0m\u001b[0m\n\u001b[1;32m----> 8\u001b[1;33m     \u001b[0mcv_results\u001b[0m \u001b[1;33m=\u001b[0m \u001b[0mcross_val_score\u001b[0m\u001b[1;33m(\u001b[0m\u001b[0mmodel\u001b[0m\u001b[1;33m,\u001b[0m \u001b[0mfv_trn\u001b[0m\u001b[1;33m,\u001b[0m \u001b[0mfv_l_trn\u001b[0m\u001b[1;33m,\u001b[0m \u001b[0mcv\u001b[0m\u001b[1;33m=\u001b[0m\u001b[0mkf\u001b[0m\u001b[1;33m,\u001b[0m \u001b[0mscoring\u001b[0m\u001b[1;33m=\u001b[0m\u001b[0mscoring\u001b[0m\u001b[1;33m)\u001b[0m\u001b[1;33m\u001b[0m\u001b[1;33m\u001b[0m\u001b[0m\n\u001b[0m\u001b[0;32m      9\u001b[0m     \u001b[0mprint\u001b[0m\u001b[1;33m(\u001b[0m\u001b[1;34m\"[CROSS_VAL_SCORE] Training n_estimators: {} : accuracy: {:.3f}, std: {:.3f}\"\u001b[0m\u001b[1;33m.\u001b[0m\u001b[0mformat\u001b[0m\u001b[1;33m(\u001b[0m\u001b[0mn\u001b[0m\u001b[1;33m,\u001b[0m \u001b[0mcv_results\u001b[0m\u001b[1;33m.\u001b[0m\u001b[0mmean\u001b[0m\u001b[1;33m(\u001b[0m\u001b[1;33m)\u001b[0m\u001b[1;33m,\u001b[0m \u001b[0mcv_results\u001b[0m\u001b[1;33m.\u001b[0m\u001b[0mstd\u001b[0m\u001b[1;33m(\u001b[0m\u001b[1;33m)\u001b[0m\u001b[1;33m)\u001b[0m\u001b[1;33m)\u001b[0m\u001b[1;33m\u001b[0m\u001b[1;33m\u001b[0m\u001b[0m\n\u001b[0;32m     10\u001b[0m     \u001b[0mtime_elapsed\u001b[0m \u001b[1;33m=\u001b[0m \u001b[0mtime\u001b[0m\u001b[1;33m.\u001b[0m\u001b[0mtime\u001b[0m\u001b[1;33m(\u001b[0m\u001b[1;33m)\u001b[0m \u001b[1;33m-\u001b[0m \u001b[0msince\u001b[0m\u001b[1;33m\u001b[0m\u001b[1;33m\u001b[0m\u001b[0m\n",
      "\u001b[1;32mD:\\anaconda3\\envs\\DS4400\\lib\\site-packages\\sklearn\\model_selection\\_validation.py\u001b[0m in \u001b[0;36mcross_val_score\u001b[1;34m(estimator, X, y, groups, scoring, cv, n_jobs, verbose, fit_params, pre_dispatch, error_score)\u001b[0m\n\u001b[0;32m    383\u001b[0m     \u001b[0mscorer\u001b[0m \u001b[1;33m=\u001b[0m \u001b[0mcheck_scoring\u001b[0m\u001b[1;33m(\u001b[0m\u001b[0mestimator\u001b[0m\u001b[1;33m,\u001b[0m \u001b[0mscoring\u001b[0m\u001b[1;33m=\u001b[0m\u001b[0mscoring\u001b[0m\u001b[1;33m)\u001b[0m\u001b[1;33m\u001b[0m\u001b[1;33m\u001b[0m\u001b[0m\n\u001b[0;32m    384\u001b[0m \u001b[1;33m\u001b[0m\u001b[0m\n\u001b[1;32m--> 385\u001b[1;33m     cv_results = cross_validate(estimator=estimator, X=X, y=y, groups=groups,\n\u001b[0m\u001b[0;32m    386\u001b[0m                                 \u001b[0mscoring\u001b[0m\u001b[1;33m=\u001b[0m\u001b[1;33m{\u001b[0m\u001b[1;34m'score'\u001b[0m\u001b[1;33m:\u001b[0m \u001b[0mscorer\u001b[0m\u001b[1;33m}\u001b[0m\u001b[1;33m,\u001b[0m \u001b[0mcv\u001b[0m\u001b[1;33m=\u001b[0m\u001b[0mcv\u001b[0m\u001b[1;33m,\u001b[0m\u001b[1;33m\u001b[0m\u001b[1;33m\u001b[0m\u001b[0m\n\u001b[0;32m    387\u001b[0m                                 \u001b[0mn_jobs\u001b[0m\u001b[1;33m=\u001b[0m\u001b[0mn_jobs\u001b[0m\u001b[1;33m,\u001b[0m \u001b[0mverbose\u001b[0m\u001b[1;33m=\u001b[0m\u001b[0mverbose\u001b[0m\u001b[1;33m,\u001b[0m\u001b[1;33m\u001b[0m\u001b[1;33m\u001b[0m\u001b[0m\n",
      "\u001b[1;32mD:\\anaconda3\\envs\\DS4400\\lib\\site-packages\\sklearn\\model_selection\\_validation.py\u001b[0m in \u001b[0;36mcross_validate\u001b[1;34m(estimator, X, y, groups, scoring, cv, n_jobs, verbose, fit_params, pre_dispatch, return_train_score, return_estimator, error_score)\u001b[0m\n\u001b[0;32m    228\u001b[0m     parallel = Parallel(n_jobs=n_jobs, verbose=verbose,\n\u001b[0;32m    229\u001b[0m                         pre_dispatch=pre_dispatch)\n\u001b[1;32m--> 230\u001b[1;33m     scores = parallel(\n\u001b[0m\u001b[0;32m    231\u001b[0m         delayed(_fit_and_score)(\n\u001b[0;32m    232\u001b[0m             \u001b[0mclone\u001b[0m\u001b[1;33m(\u001b[0m\u001b[0mestimator\u001b[0m\u001b[1;33m)\u001b[0m\u001b[1;33m,\u001b[0m \u001b[0mX\u001b[0m\u001b[1;33m,\u001b[0m \u001b[0my\u001b[0m\u001b[1;33m,\u001b[0m \u001b[0mscorers\u001b[0m\u001b[1;33m,\u001b[0m \u001b[0mtrain\u001b[0m\u001b[1;33m,\u001b[0m \u001b[0mtest\u001b[0m\u001b[1;33m,\u001b[0m \u001b[0mverbose\u001b[0m\u001b[1;33m,\u001b[0m \u001b[1;32mNone\u001b[0m\u001b[1;33m,\u001b[0m\u001b[1;33m\u001b[0m\u001b[1;33m\u001b[0m\u001b[0m\n",
      "\u001b[1;32mD:\\anaconda3\\envs\\DS4400\\lib\\site-packages\\joblib\\parallel.py\u001b[0m in \u001b[0;36m__call__\u001b[1;34m(self, iterable)\u001b[0m\n\u001b[0;32m   1002\u001b[0m             \u001b[1;31m# remaining jobs.\u001b[0m\u001b[1;33m\u001b[0m\u001b[1;33m\u001b[0m\u001b[1;33m\u001b[0m\u001b[0m\n\u001b[0;32m   1003\u001b[0m             \u001b[0mself\u001b[0m\u001b[1;33m.\u001b[0m\u001b[0m_iterating\u001b[0m \u001b[1;33m=\u001b[0m \u001b[1;32mFalse\u001b[0m\u001b[1;33m\u001b[0m\u001b[1;33m\u001b[0m\u001b[0m\n\u001b[1;32m-> 1004\u001b[1;33m             \u001b[1;32mif\u001b[0m \u001b[0mself\u001b[0m\u001b[1;33m.\u001b[0m\u001b[0mdispatch_one_batch\u001b[0m\u001b[1;33m(\u001b[0m\u001b[0miterator\u001b[0m\u001b[1;33m)\u001b[0m\u001b[1;33m:\u001b[0m\u001b[1;33m\u001b[0m\u001b[1;33m\u001b[0m\u001b[0m\n\u001b[0m\u001b[0;32m   1005\u001b[0m                 \u001b[0mself\u001b[0m\u001b[1;33m.\u001b[0m\u001b[0m_iterating\u001b[0m \u001b[1;33m=\u001b[0m \u001b[0mself\u001b[0m\u001b[1;33m.\u001b[0m\u001b[0m_original_iterator\u001b[0m \u001b[1;32mis\u001b[0m \u001b[1;32mnot\u001b[0m \u001b[1;32mNone\u001b[0m\u001b[1;33m\u001b[0m\u001b[1;33m\u001b[0m\u001b[0m\n\u001b[0;32m   1006\u001b[0m \u001b[1;33m\u001b[0m\u001b[0m\n",
      "\u001b[1;32mD:\\anaconda3\\envs\\DS4400\\lib\\site-packages\\joblib\\parallel.py\u001b[0m in \u001b[0;36mdispatch_one_batch\u001b[1;34m(self, iterator)\u001b[0m\n\u001b[0;32m    833\u001b[0m                 \u001b[1;32mreturn\u001b[0m \u001b[1;32mFalse\u001b[0m\u001b[1;33m\u001b[0m\u001b[1;33m\u001b[0m\u001b[0m\n\u001b[0;32m    834\u001b[0m             \u001b[1;32melse\u001b[0m\u001b[1;33m:\u001b[0m\u001b[1;33m\u001b[0m\u001b[1;33m\u001b[0m\u001b[0m\n\u001b[1;32m--> 835\u001b[1;33m                 \u001b[0mself\u001b[0m\u001b[1;33m.\u001b[0m\u001b[0m_dispatch\u001b[0m\u001b[1;33m(\u001b[0m\u001b[0mtasks\u001b[0m\u001b[1;33m)\u001b[0m\u001b[1;33m\u001b[0m\u001b[1;33m\u001b[0m\u001b[0m\n\u001b[0m\u001b[0;32m    836\u001b[0m                 \u001b[1;32mreturn\u001b[0m \u001b[1;32mTrue\u001b[0m\u001b[1;33m\u001b[0m\u001b[1;33m\u001b[0m\u001b[0m\n\u001b[0;32m    837\u001b[0m \u001b[1;33m\u001b[0m\u001b[0m\n",
      "\u001b[1;32mD:\\anaconda3\\envs\\DS4400\\lib\\site-packages\\joblib\\parallel.py\u001b[0m in \u001b[0;36m_dispatch\u001b[1;34m(self, batch)\u001b[0m\n\u001b[0;32m    752\u001b[0m         \u001b[1;32mwith\u001b[0m \u001b[0mself\u001b[0m\u001b[1;33m.\u001b[0m\u001b[0m_lock\u001b[0m\u001b[1;33m:\u001b[0m\u001b[1;33m\u001b[0m\u001b[1;33m\u001b[0m\u001b[0m\n\u001b[0;32m    753\u001b[0m             \u001b[0mjob_idx\u001b[0m \u001b[1;33m=\u001b[0m \u001b[0mlen\u001b[0m\u001b[1;33m(\u001b[0m\u001b[0mself\u001b[0m\u001b[1;33m.\u001b[0m\u001b[0m_jobs\u001b[0m\u001b[1;33m)\u001b[0m\u001b[1;33m\u001b[0m\u001b[1;33m\u001b[0m\u001b[0m\n\u001b[1;32m--> 754\u001b[1;33m             \u001b[0mjob\u001b[0m \u001b[1;33m=\u001b[0m \u001b[0mself\u001b[0m\u001b[1;33m.\u001b[0m\u001b[0m_backend\u001b[0m\u001b[1;33m.\u001b[0m\u001b[0mapply_async\u001b[0m\u001b[1;33m(\u001b[0m\u001b[0mbatch\u001b[0m\u001b[1;33m,\u001b[0m \u001b[0mcallback\u001b[0m\u001b[1;33m=\u001b[0m\u001b[0mcb\u001b[0m\u001b[1;33m)\u001b[0m\u001b[1;33m\u001b[0m\u001b[1;33m\u001b[0m\u001b[0m\n\u001b[0m\u001b[0;32m    755\u001b[0m             \u001b[1;31m# A job can complete so quickly than its callback is\u001b[0m\u001b[1;33m\u001b[0m\u001b[1;33m\u001b[0m\u001b[1;33m\u001b[0m\u001b[0m\n\u001b[0;32m    756\u001b[0m             \u001b[1;31m# called before we get here, causing self._jobs to\u001b[0m\u001b[1;33m\u001b[0m\u001b[1;33m\u001b[0m\u001b[1;33m\u001b[0m\u001b[0m\n",
      "\u001b[1;32mD:\\anaconda3\\envs\\DS4400\\lib\\site-packages\\joblib\\_parallel_backends.py\u001b[0m in \u001b[0;36mapply_async\u001b[1;34m(self, func, callback)\u001b[0m\n\u001b[0;32m    207\u001b[0m     \u001b[1;32mdef\u001b[0m \u001b[0mapply_async\u001b[0m\u001b[1;33m(\u001b[0m\u001b[0mself\u001b[0m\u001b[1;33m,\u001b[0m \u001b[0mfunc\u001b[0m\u001b[1;33m,\u001b[0m \u001b[0mcallback\u001b[0m\u001b[1;33m=\u001b[0m\u001b[1;32mNone\u001b[0m\u001b[1;33m)\u001b[0m\u001b[1;33m:\u001b[0m\u001b[1;33m\u001b[0m\u001b[1;33m\u001b[0m\u001b[0m\n\u001b[0;32m    208\u001b[0m         \u001b[1;34m\"\"\"Schedule a func to be run\"\"\"\u001b[0m\u001b[1;33m\u001b[0m\u001b[1;33m\u001b[0m\u001b[0m\n\u001b[1;32m--> 209\u001b[1;33m         \u001b[0mresult\u001b[0m \u001b[1;33m=\u001b[0m \u001b[0mImmediateResult\u001b[0m\u001b[1;33m(\u001b[0m\u001b[0mfunc\u001b[0m\u001b[1;33m)\u001b[0m\u001b[1;33m\u001b[0m\u001b[1;33m\u001b[0m\u001b[0m\n\u001b[0m\u001b[0;32m    210\u001b[0m         \u001b[1;32mif\u001b[0m \u001b[0mcallback\u001b[0m\u001b[1;33m:\u001b[0m\u001b[1;33m\u001b[0m\u001b[1;33m\u001b[0m\u001b[0m\n\u001b[0;32m    211\u001b[0m             \u001b[0mcallback\u001b[0m\u001b[1;33m(\u001b[0m\u001b[0mresult\u001b[0m\u001b[1;33m)\u001b[0m\u001b[1;33m\u001b[0m\u001b[1;33m\u001b[0m\u001b[0m\n",
      "\u001b[1;32mD:\\anaconda3\\envs\\DS4400\\lib\\site-packages\\joblib\\_parallel_backends.py\u001b[0m in \u001b[0;36m__init__\u001b[1;34m(self, batch)\u001b[0m\n\u001b[0;32m    588\u001b[0m         \u001b[1;31m# Don't delay the application, to avoid keeping the input\u001b[0m\u001b[1;33m\u001b[0m\u001b[1;33m\u001b[0m\u001b[1;33m\u001b[0m\u001b[0m\n\u001b[0;32m    589\u001b[0m         \u001b[1;31m# arguments in memory\u001b[0m\u001b[1;33m\u001b[0m\u001b[1;33m\u001b[0m\u001b[1;33m\u001b[0m\u001b[0m\n\u001b[1;32m--> 590\u001b[1;33m         \u001b[0mself\u001b[0m\u001b[1;33m.\u001b[0m\u001b[0mresults\u001b[0m \u001b[1;33m=\u001b[0m \u001b[0mbatch\u001b[0m\u001b[1;33m(\u001b[0m\u001b[1;33m)\u001b[0m\u001b[1;33m\u001b[0m\u001b[1;33m\u001b[0m\u001b[0m\n\u001b[0m\u001b[0;32m    591\u001b[0m \u001b[1;33m\u001b[0m\u001b[0m\n\u001b[0;32m    592\u001b[0m     \u001b[1;32mdef\u001b[0m \u001b[0mget\u001b[0m\u001b[1;33m(\u001b[0m\u001b[0mself\u001b[0m\u001b[1;33m)\u001b[0m\u001b[1;33m:\u001b[0m\u001b[1;33m\u001b[0m\u001b[1;33m\u001b[0m\u001b[0m\n",
      "\u001b[1;32mD:\\anaconda3\\envs\\DS4400\\lib\\site-packages\\joblib\\parallel.py\u001b[0m in \u001b[0;36m__call__\u001b[1;34m(self)\u001b[0m\n\u001b[0;32m    253\u001b[0m         \u001b[1;31m# change the default number of processes to -1\u001b[0m\u001b[1;33m\u001b[0m\u001b[1;33m\u001b[0m\u001b[1;33m\u001b[0m\u001b[0m\n\u001b[0;32m    254\u001b[0m         \u001b[1;32mwith\u001b[0m \u001b[0mparallel_backend\u001b[0m\u001b[1;33m(\u001b[0m\u001b[0mself\u001b[0m\u001b[1;33m.\u001b[0m\u001b[0m_backend\u001b[0m\u001b[1;33m,\u001b[0m \u001b[0mn_jobs\u001b[0m\u001b[1;33m=\u001b[0m\u001b[0mself\u001b[0m\u001b[1;33m.\u001b[0m\u001b[0m_n_jobs\u001b[0m\u001b[1;33m)\u001b[0m\u001b[1;33m:\u001b[0m\u001b[1;33m\u001b[0m\u001b[1;33m\u001b[0m\u001b[0m\n\u001b[1;32m--> 255\u001b[1;33m             return [func(*args, **kwargs)\n\u001b[0m\u001b[0;32m    256\u001b[0m                     for func, args, kwargs in self.items]\n\u001b[0;32m    257\u001b[0m \u001b[1;33m\u001b[0m\u001b[0m\n",
      "\u001b[1;32mD:\\anaconda3\\envs\\DS4400\\lib\\site-packages\\joblib\\parallel.py\u001b[0m in \u001b[0;36m<listcomp>\u001b[1;34m(.0)\u001b[0m\n\u001b[0;32m    253\u001b[0m         \u001b[1;31m# change the default number of processes to -1\u001b[0m\u001b[1;33m\u001b[0m\u001b[1;33m\u001b[0m\u001b[1;33m\u001b[0m\u001b[0m\n\u001b[0;32m    254\u001b[0m         \u001b[1;32mwith\u001b[0m \u001b[0mparallel_backend\u001b[0m\u001b[1;33m(\u001b[0m\u001b[0mself\u001b[0m\u001b[1;33m.\u001b[0m\u001b[0m_backend\u001b[0m\u001b[1;33m,\u001b[0m \u001b[0mn_jobs\u001b[0m\u001b[1;33m=\u001b[0m\u001b[0mself\u001b[0m\u001b[1;33m.\u001b[0m\u001b[0m_n_jobs\u001b[0m\u001b[1;33m)\u001b[0m\u001b[1;33m:\u001b[0m\u001b[1;33m\u001b[0m\u001b[1;33m\u001b[0m\u001b[0m\n\u001b[1;32m--> 255\u001b[1;33m             return [func(*args, **kwargs)\n\u001b[0m\u001b[0;32m    256\u001b[0m                     for func, args, kwargs in self.items]\n\u001b[0;32m    257\u001b[0m \u001b[1;33m\u001b[0m\u001b[0m\n",
      "\u001b[1;32mD:\\anaconda3\\envs\\DS4400\\lib\\site-packages\\sklearn\\model_selection\\_validation.py\u001b[0m in \u001b[0;36m_fit_and_score\u001b[1;34m(estimator, X, y, scorer, train, test, verbose, parameters, fit_params, return_train_score, return_parameters, return_n_test_samples, return_times, return_estimator, error_score)\u001b[0m\n\u001b[0;32m    513\u001b[0m             \u001b[0mestimator\u001b[0m\u001b[1;33m.\u001b[0m\u001b[0mfit\u001b[0m\u001b[1;33m(\u001b[0m\u001b[0mX_train\u001b[0m\u001b[1;33m,\u001b[0m \u001b[1;33m**\u001b[0m\u001b[0mfit_params\u001b[0m\u001b[1;33m)\u001b[0m\u001b[1;33m\u001b[0m\u001b[1;33m\u001b[0m\u001b[0m\n\u001b[0;32m    514\u001b[0m         \u001b[1;32melse\u001b[0m\u001b[1;33m:\u001b[0m\u001b[1;33m\u001b[0m\u001b[1;33m\u001b[0m\u001b[0m\n\u001b[1;32m--> 515\u001b[1;33m             \u001b[0mestimator\u001b[0m\u001b[1;33m.\u001b[0m\u001b[0mfit\u001b[0m\u001b[1;33m(\u001b[0m\u001b[0mX_train\u001b[0m\u001b[1;33m,\u001b[0m \u001b[0my_train\u001b[0m\u001b[1;33m,\u001b[0m \u001b[1;33m**\u001b[0m\u001b[0mfit_params\u001b[0m\u001b[1;33m)\u001b[0m\u001b[1;33m\u001b[0m\u001b[1;33m\u001b[0m\u001b[0m\n\u001b[0m\u001b[0;32m    516\u001b[0m \u001b[1;33m\u001b[0m\u001b[0m\n\u001b[0;32m    517\u001b[0m     \u001b[1;32mexcept\u001b[0m \u001b[0mException\u001b[0m \u001b[1;32mas\u001b[0m \u001b[0me\u001b[0m\u001b[1;33m:\u001b[0m\u001b[1;33m\u001b[0m\u001b[1;33m\u001b[0m\u001b[0m\n",
      "\u001b[1;32mD:\\anaconda3\\envs\\DS4400\\lib\\site-packages\\sklearn\\ensemble\\_forest.py\u001b[0m in \u001b[0;36mfit\u001b[1;34m(self, X, y, sample_weight)\u001b[0m\n\u001b[0;32m    375\u001b[0m             \u001b[1;31m# parallel_backend contexts set at a higher level,\u001b[0m\u001b[1;33m\u001b[0m\u001b[1;33m\u001b[0m\u001b[1;33m\u001b[0m\u001b[0m\n\u001b[0;32m    376\u001b[0m             \u001b[1;31m# since correctness does not rely on using threads.\u001b[0m\u001b[1;33m\u001b[0m\u001b[1;33m\u001b[0m\u001b[1;33m\u001b[0m\u001b[0m\n\u001b[1;32m--> 377\u001b[1;33m             trees = Parallel(n_jobs=self.n_jobs, verbose=self.verbose,\n\u001b[0m\u001b[0;32m    378\u001b[0m                              \u001b[1;33m**\u001b[0m\u001b[0m_joblib_parallel_args\u001b[0m\u001b[1;33m(\u001b[0m\u001b[0mprefer\u001b[0m\u001b[1;33m=\u001b[0m\u001b[1;34m'threads'\u001b[0m\u001b[1;33m)\u001b[0m\u001b[1;33m)\u001b[0m\u001b[1;33m(\u001b[0m\u001b[1;33m\u001b[0m\u001b[1;33m\u001b[0m\u001b[0m\n\u001b[0;32m    379\u001b[0m                 delayed(_parallel_build_trees)(\n",
      "\u001b[1;32mD:\\anaconda3\\envs\\DS4400\\lib\\site-packages\\joblib\\parallel.py\u001b[0m in \u001b[0;36m__call__\u001b[1;34m(self, iterable)\u001b[0m\n\u001b[0;32m   1005\u001b[0m                 \u001b[0mself\u001b[0m\u001b[1;33m.\u001b[0m\u001b[0m_iterating\u001b[0m \u001b[1;33m=\u001b[0m \u001b[0mself\u001b[0m\u001b[1;33m.\u001b[0m\u001b[0m_original_iterator\u001b[0m \u001b[1;32mis\u001b[0m \u001b[1;32mnot\u001b[0m \u001b[1;32mNone\u001b[0m\u001b[1;33m\u001b[0m\u001b[1;33m\u001b[0m\u001b[0m\n\u001b[0;32m   1006\u001b[0m \u001b[1;33m\u001b[0m\u001b[0m\n\u001b[1;32m-> 1007\u001b[1;33m             \u001b[1;32mwhile\u001b[0m \u001b[0mself\u001b[0m\u001b[1;33m.\u001b[0m\u001b[0mdispatch_one_batch\u001b[0m\u001b[1;33m(\u001b[0m\u001b[0miterator\u001b[0m\u001b[1;33m)\u001b[0m\u001b[1;33m:\u001b[0m\u001b[1;33m\u001b[0m\u001b[1;33m\u001b[0m\u001b[0m\n\u001b[0m\u001b[0;32m   1008\u001b[0m                 \u001b[1;32mpass\u001b[0m\u001b[1;33m\u001b[0m\u001b[1;33m\u001b[0m\u001b[0m\n\u001b[0;32m   1009\u001b[0m \u001b[1;33m\u001b[0m\u001b[0m\n",
      "\u001b[1;32mD:\\anaconda3\\envs\\DS4400\\lib\\site-packages\\joblib\\parallel.py\u001b[0m in \u001b[0;36mdispatch_one_batch\u001b[1;34m(self, iterator)\u001b[0m\n\u001b[0;32m    833\u001b[0m                 \u001b[1;32mreturn\u001b[0m \u001b[1;32mFalse\u001b[0m\u001b[1;33m\u001b[0m\u001b[1;33m\u001b[0m\u001b[0m\n\u001b[0;32m    834\u001b[0m             \u001b[1;32melse\u001b[0m\u001b[1;33m:\u001b[0m\u001b[1;33m\u001b[0m\u001b[1;33m\u001b[0m\u001b[0m\n\u001b[1;32m--> 835\u001b[1;33m                 \u001b[0mself\u001b[0m\u001b[1;33m.\u001b[0m\u001b[0m_dispatch\u001b[0m\u001b[1;33m(\u001b[0m\u001b[0mtasks\u001b[0m\u001b[1;33m)\u001b[0m\u001b[1;33m\u001b[0m\u001b[1;33m\u001b[0m\u001b[0m\n\u001b[0m\u001b[0;32m    836\u001b[0m                 \u001b[1;32mreturn\u001b[0m \u001b[1;32mTrue\u001b[0m\u001b[1;33m\u001b[0m\u001b[1;33m\u001b[0m\u001b[0m\n\u001b[0;32m    837\u001b[0m \u001b[1;33m\u001b[0m\u001b[0m\n",
      "\u001b[1;32mD:\\anaconda3\\envs\\DS4400\\lib\\site-packages\\joblib\\parallel.py\u001b[0m in \u001b[0;36m_dispatch\u001b[1;34m(self, batch)\u001b[0m\n\u001b[0;32m    752\u001b[0m         \u001b[1;32mwith\u001b[0m \u001b[0mself\u001b[0m\u001b[1;33m.\u001b[0m\u001b[0m_lock\u001b[0m\u001b[1;33m:\u001b[0m\u001b[1;33m\u001b[0m\u001b[1;33m\u001b[0m\u001b[0m\n\u001b[0;32m    753\u001b[0m             \u001b[0mjob_idx\u001b[0m \u001b[1;33m=\u001b[0m \u001b[0mlen\u001b[0m\u001b[1;33m(\u001b[0m\u001b[0mself\u001b[0m\u001b[1;33m.\u001b[0m\u001b[0m_jobs\u001b[0m\u001b[1;33m)\u001b[0m\u001b[1;33m\u001b[0m\u001b[1;33m\u001b[0m\u001b[0m\n\u001b[1;32m--> 754\u001b[1;33m             \u001b[0mjob\u001b[0m \u001b[1;33m=\u001b[0m \u001b[0mself\u001b[0m\u001b[1;33m.\u001b[0m\u001b[0m_backend\u001b[0m\u001b[1;33m.\u001b[0m\u001b[0mapply_async\u001b[0m\u001b[1;33m(\u001b[0m\u001b[0mbatch\u001b[0m\u001b[1;33m,\u001b[0m \u001b[0mcallback\u001b[0m\u001b[1;33m=\u001b[0m\u001b[0mcb\u001b[0m\u001b[1;33m)\u001b[0m\u001b[1;33m\u001b[0m\u001b[1;33m\u001b[0m\u001b[0m\n\u001b[0m\u001b[0;32m    755\u001b[0m             \u001b[1;31m# A job can complete so quickly than its callback is\u001b[0m\u001b[1;33m\u001b[0m\u001b[1;33m\u001b[0m\u001b[1;33m\u001b[0m\u001b[0m\n\u001b[0;32m    756\u001b[0m             \u001b[1;31m# called before we get here, causing self._jobs to\u001b[0m\u001b[1;33m\u001b[0m\u001b[1;33m\u001b[0m\u001b[1;33m\u001b[0m\u001b[0m\n",
      "\u001b[1;32mD:\\anaconda3\\envs\\DS4400\\lib\\site-packages\\joblib\\_parallel_backends.py\u001b[0m in \u001b[0;36mapply_async\u001b[1;34m(self, func, callback)\u001b[0m\n\u001b[0;32m    207\u001b[0m     \u001b[1;32mdef\u001b[0m \u001b[0mapply_async\u001b[0m\u001b[1;33m(\u001b[0m\u001b[0mself\u001b[0m\u001b[1;33m,\u001b[0m \u001b[0mfunc\u001b[0m\u001b[1;33m,\u001b[0m \u001b[0mcallback\u001b[0m\u001b[1;33m=\u001b[0m\u001b[1;32mNone\u001b[0m\u001b[1;33m)\u001b[0m\u001b[1;33m:\u001b[0m\u001b[1;33m\u001b[0m\u001b[1;33m\u001b[0m\u001b[0m\n\u001b[0;32m    208\u001b[0m         \u001b[1;34m\"\"\"Schedule a func to be run\"\"\"\u001b[0m\u001b[1;33m\u001b[0m\u001b[1;33m\u001b[0m\u001b[0m\n\u001b[1;32m--> 209\u001b[1;33m         \u001b[0mresult\u001b[0m \u001b[1;33m=\u001b[0m \u001b[0mImmediateResult\u001b[0m\u001b[1;33m(\u001b[0m\u001b[0mfunc\u001b[0m\u001b[1;33m)\u001b[0m\u001b[1;33m\u001b[0m\u001b[1;33m\u001b[0m\u001b[0m\n\u001b[0m\u001b[0;32m    210\u001b[0m         \u001b[1;32mif\u001b[0m \u001b[0mcallback\u001b[0m\u001b[1;33m:\u001b[0m\u001b[1;33m\u001b[0m\u001b[1;33m\u001b[0m\u001b[0m\n\u001b[0;32m    211\u001b[0m             \u001b[0mcallback\u001b[0m\u001b[1;33m(\u001b[0m\u001b[0mresult\u001b[0m\u001b[1;33m)\u001b[0m\u001b[1;33m\u001b[0m\u001b[1;33m\u001b[0m\u001b[0m\n",
      "\u001b[1;32mD:\\anaconda3\\envs\\DS4400\\lib\\site-packages\\joblib\\_parallel_backends.py\u001b[0m in \u001b[0;36m__init__\u001b[1;34m(self, batch)\u001b[0m\n\u001b[0;32m    588\u001b[0m         \u001b[1;31m# Don't delay the application, to avoid keeping the input\u001b[0m\u001b[1;33m\u001b[0m\u001b[1;33m\u001b[0m\u001b[1;33m\u001b[0m\u001b[0m\n\u001b[0;32m    589\u001b[0m         \u001b[1;31m# arguments in memory\u001b[0m\u001b[1;33m\u001b[0m\u001b[1;33m\u001b[0m\u001b[1;33m\u001b[0m\u001b[0m\n\u001b[1;32m--> 590\u001b[1;33m         \u001b[0mself\u001b[0m\u001b[1;33m.\u001b[0m\u001b[0mresults\u001b[0m \u001b[1;33m=\u001b[0m \u001b[0mbatch\u001b[0m\u001b[1;33m(\u001b[0m\u001b[1;33m)\u001b[0m\u001b[1;33m\u001b[0m\u001b[1;33m\u001b[0m\u001b[0m\n\u001b[0m\u001b[0;32m    591\u001b[0m \u001b[1;33m\u001b[0m\u001b[0m\n\u001b[0;32m    592\u001b[0m     \u001b[1;32mdef\u001b[0m \u001b[0mget\u001b[0m\u001b[1;33m(\u001b[0m\u001b[0mself\u001b[0m\u001b[1;33m)\u001b[0m\u001b[1;33m:\u001b[0m\u001b[1;33m\u001b[0m\u001b[1;33m\u001b[0m\u001b[0m\n",
      "\u001b[1;32mD:\\anaconda3\\envs\\DS4400\\lib\\site-packages\\joblib\\parallel.py\u001b[0m in \u001b[0;36m__call__\u001b[1;34m(self)\u001b[0m\n\u001b[0;32m    253\u001b[0m         \u001b[1;31m# change the default number of processes to -1\u001b[0m\u001b[1;33m\u001b[0m\u001b[1;33m\u001b[0m\u001b[1;33m\u001b[0m\u001b[0m\n\u001b[0;32m    254\u001b[0m         \u001b[1;32mwith\u001b[0m \u001b[0mparallel_backend\u001b[0m\u001b[1;33m(\u001b[0m\u001b[0mself\u001b[0m\u001b[1;33m.\u001b[0m\u001b[0m_backend\u001b[0m\u001b[1;33m,\u001b[0m \u001b[0mn_jobs\u001b[0m\u001b[1;33m=\u001b[0m\u001b[0mself\u001b[0m\u001b[1;33m.\u001b[0m\u001b[0m_n_jobs\u001b[0m\u001b[1;33m)\u001b[0m\u001b[1;33m:\u001b[0m\u001b[1;33m\u001b[0m\u001b[1;33m\u001b[0m\u001b[0m\n\u001b[1;32m--> 255\u001b[1;33m             return [func(*args, **kwargs)\n\u001b[0m\u001b[0;32m    256\u001b[0m                     for func, args, kwargs in self.items]\n\u001b[0;32m    257\u001b[0m \u001b[1;33m\u001b[0m\u001b[0m\n",
      "\u001b[1;32mD:\\anaconda3\\envs\\DS4400\\lib\\site-packages\\joblib\\parallel.py\u001b[0m in \u001b[0;36m<listcomp>\u001b[1;34m(.0)\u001b[0m\n\u001b[0;32m    253\u001b[0m         \u001b[1;31m# change the default number of processes to -1\u001b[0m\u001b[1;33m\u001b[0m\u001b[1;33m\u001b[0m\u001b[1;33m\u001b[0m\u001b[0m\n\u001b[0;32m    254\u001b[0m         \u001b[1;32mwith\u001b[0m \u001b[0mparallel_backend\u001b[0m\u001b[1;33m(\u001b[0m\u001b[0mself\u001b[0m\u001b[1;33m.\u001b[0m\u001b[0m_backend\u001b[0m\u001b[1;33m,\u001b[0m \u001b[0mn_jobs\u001b[0m\u001b[1;33m=\u001b[0m\u001b[0mself\u001b[0m\u001b[1;33m.\u001b[0m\u001b[0m_n_jobs\u001b[0m\u001b[1;33m)\u001b[0m\u001b[1;33m:\u001b[0m\u001b[1;33m\u001b[0m\u001b[1;33m\u001b[0m\u001b[0m\n\u001b[1;32m--> 255\u001b[1;33m             return [func(*args, **kwargs)\n\u001b[0m\u001b[0;32m    256\u001b[0m                     for func, args, kwargs in self.items]\n\u001b[0;32m    257\u001b[0m \u001b[1;33m\u001b[0m\u001b[0m\n",
      "\u001b[1;32mD:\\anaconda3\\envs\\DS4400\\lib\\site-packages\\sklearn\\ensemble\\_forest.py\u001b[0m in \u001b[0;36m_parallel_build_trees\u001b[1;34m(tree, forest, X, y, sample_weight, tree_idx, n_trees, verbose, class_weight, n_samples_bootstrap)\u001b[0m\n\u001b[0;32m    163\u001b[0m             \u001b[0mcurr_sample_weight\u001b[0m \u001b[1;33m*=\u001b[0m \u001b[0mcompute_sample_weight\u001b[0m\u001b[1;33m(\u001b[0m\u001b[1;34m'balanced'\u001b[0m\u001b[1;33m,\u001b[0m \u001b[0my\u001b[0m\u001b[1;33m,\u001b[0m \u001b[0mindices\u001b[0m\u001b[1;33m)\u001b[0m\u001b[1;33m\u001b[0m\u001b[1;33m\u001b[0m\u001b[0m\n\u001b[0;32m    164\u001b[0m \u001b[1;33m\u001b[0m\u001b[0m\n\u001b[1;32m--> 165\u001b[1;33m         \u001b[0mtree\u001b[0m\u001b[1;33m.\u001b[0m\u001b[0mfit\u001b[0m\u001b[1;33m(\u001b[0m\u001b[0mX\u001b[0m\u001b[1;33m,\u001b[0m \u001b[0my\u001b[0m\u001b[1;33m,\u001b[0m \u001b[0msample_weight\u001b[0m\u001b[1;33m=\u001b[0m\u001b[0mcurr_sample_weight\u001b[0m\u001b[1;33m,\u001b[0m \u001b[0mcheck_input\u001b[0m\u001b[1;33m=\u001b[0m\u001b[1;32mFalse\u001b[0m\u001b[1;33m)\u001b[0m\u001b[1;33m\u001b[0m\u001b[1;33m\u001b[0m\u001b[0m\n\u001b[0m\u001b[0;32m    166\u001b[0m     \u001b[1;32melse\u001b[0m\u001b[1;33m:\u001b[0m\u001b[1;33m\u001b[0m\u001b[1;33m\u001b[0m\u001b[0m\n\u001b[0;32m    167\u001b[0m         \u001b[0mtree\u001b[0m\u001b[1;33m.\u001b[0m\u001b[0mfit\u001b[0m\u001b[1;33m(\u001b[0m\u001b[0mX\u001b[0m\u001b[1;33m,\u001b[0m \u001b[0my\u001b[0m\u001b[1;33m,\u001b[0m \u001b[0msample_weight\u001b[0m\u001b[1;33m=\u001b[0m\u001b[0msample_weight\u001b[0m\u001b[1;33m,\u001b[0m \u001b[0mcheck_input\u001b[0m\u001b[1;33m=\u001b[0m\u001b[1;32mFalse\u001b[0m\u001b[1;33m)\u001b[0m\u001b[1;33m\u001b[0m\u001b[1;33m\u001b[0m\u001b[0m\n",
      "\u001b[1;32mD:\\anaconda3\\envs\\DS4400\\lib\\site-packages\\sklearn\\tree\\_classes.py\u001b[0m in \u001b[0;36mfit\u001b[1;34m(self, X, y, sample_weight, check_input, X_idx_sorted)\u001b[0m\n\u001b[0;32m    871\u001b[0m         \"\"\"\n\u001b[0;32m    872\u001b[0m \u001b[1;33m\u001b[0m\u001b[0m\n\u001b[1;32m--> 873\u001b[1;33m         super().fit(\n\u001b[0m\u001b[0;32m    874\u001b[0m             \u001b[0mX\u001b[0m\u001b[1;33m,\u001b[0m \u001b[0my\u001b[0m\u001b[1;33m,\u001b[0m\u001b[1;33m\u001b[0m\u001b[1;33m\u001b[0m\u001b[0m\n\u001b[0;32m    875\u001b[0m             \u001b[0msample_weight\u001b[0m\u001b[1;33m=\u001b[0m\u001b[0msample_weight\u001b[0m\u001b[1;33m,\u001b[0m\u001b[1;33m\u001b[0m\u001b[1;33m\u001b[0m\u001b[0m\n",
      "\u001b[1;32mD:\\anaconda3\\envs\\DS4400\\lib\\site-packages\\sklearn\\tree\\_classes.py\u001b[0m in \u001b[0;36mfit\u001b[1;34m(self, X, y, sample_weight, check_input, X_idx_sorted)\u001b[0m\n\u001b[0;32m    365\u001b[0m                                            min_impurity_split)\n\u001b[0;32m    366\u001b[0m \u001b[1;33m\u001b[0m\u001b[0m\n\u001b[1;32m--> 367\u001b[1;33m         \u001b[0mbuilder\u001b[0m\u001b[1;33m.\u001b[0m\u001b[0mbuild\u001b[0m\u001b[1;33m(\u001b[0m\u001b[0mself\u001b[0m\u001b[1;33m.\u001b[0m\u001b[0mtree_\u001b[0m\u001b[1;33m,\u001b[0m \u001b[0mX\u001b[0m\u001b[1;33m,\u001b[0m \u001b[0my\u001b[0m\u001b[1;33m,\u001b[0m \u001b[0msample_weight\u001b[0m\u001b[1;33m,\u001b[0m \u001b[0mX_idx_sorted\u001b[0m\u001b[1;33m)\u001b[0m\u001b[1;33m\u001b[0m\u001b[1;33m\u001b[0m\u001b[0m\n\u001b[0m\u001b[0;32m    368\u001b[0m \u001b[1;33m\u001b[0m\u001b[0m\n\u001b[0;32m    369\u001b[0m         \u001b[1;32mif\u001b[0m \u001b[0mself\u001b[0m\u001b[1;33m.\u001b[0m\u001b[0mn_outputs_\u001b[0m \u001b[1;33m==\u001b[0m \u001b[1;36m1\u001b[0m \u001b[1;32mand\u001b[0m \u001b[0mis_classifier\u001b[0m\u001b[1;33m(\u001b[0m\u001b[0mself\u001b[0m\u001b[1;33m)\u001b[0m\u001b[1;33m:\u001b[0m\u001b[1;33m\u001b[0m\u001b[1;33m\u001b[0m\u001b[0m\n",
      "\u001b[1;31mKeyboardInterrupt\u001b[0m: "
     ]
    }
   ],
   "source": [
    "acc = []\n",
    "time_list = []\n",
    "n_list_2 = np.hstack([np.array([10,50,100,500]),np.linspace(600,1400,num=5),np.array([3000,5000])])\n",
    "for n in n_list_2:\n",
    "    since = time.time()\n",
    "    kf = KFold(n_splits=4, shuffle=True, random_state=seed)\n",
    "    model = RandomForestClassifier(n_estimators = int(n), criterion='gini')\n",
    "    cv_results = cross_val_score(model, fv_trn, fv_l_trn, cv=kf, scoring=scoring)\n",
    "    print(\"[CROSS_VAL_SCORE] Training n_estimators: {} : accuracy: {:.3f}, std: {:.3f}\".format(n, cv_results.mean(), cv_results.std()))\n",
    "    time_elapsed = time.time() - since\n",
    "    time_list.append(time_elapsed)\n",
    "    acc.append(cv_results)\n",
    "    print('[TIME_CONSUMPTION] Finishing in {:.0f}m {:.0f}s'.format(time_elapsed // 60, time_elapsed % 60))\n"
   ]
  },
  {
   "cell_type": "code",
   "execution_count": null,
   "metadata": {},
   "outputs": [],
   "source": [
    "fig = plt.figure()\n",
    "fig.suptitle(\"Random Forest Accuracy and Time-Consumption on n_estimators\", fontsize='x-large')\n",
    "ax = fig.add_subplot(121)\n",
    "plt.boxplot(acc)\n",
    "ax.set_xticklabels([int(x) for x in n_list_2])\n",
    "plt.xticks(rotation=65, horizontalalignment=\"center\")\n",
    "plt.title('Accuracy')\n",
    "ax = fig.add_subplot(1,2,2)\n",
    "ax.plot([int(x) for x in n_list], time_list)\n",
    "ax.scatter([int(x) for x in n_list], time_list)\n",
    "plt.xticks(rotation=45, horizontalalignment=\"center\")\n",
    "plt.title('Time Consumption')\n",
    "plt.show()"
   ]
  },
  {
   "cell_type": "markdown",
   "metadata": {},
   "source": [
    "### SVM\n",
    "1. Loss Function\n",
    "2. C\n",
    "3. poly degree"
   ]
  },
  {
   "cell_type": "code",
   "execution_count": null,
   "metadata": {
    "scrolled": false
   },
   "outputs": [],
   "source": [
    "svm_ker_acc = {'linear': [],\n",
    "      'poly': [],\n",
    "      'rbf': [],\n",
    "      'sigmoid': []}\n",
    "svm_ker_time_list = {'linear': [],\n",
    "      'poly': [],\n",
    "      'rbf': [],\n",
    "      'sigmoid': []}\n",
    "svm_ker_n_list = np.hstack([np.linspace(1,5,5),8,10,20,50,100])\n",
    "for c in svm_ker_n_list:\n",
    "    for ker in [\"linear\", \"poly\", 'rbf', 'sigmoid']:\n",
    "        since = time.time()\n",
    "        kf = KFold(n_splits=5, shuffle=True, random_state=seed)\n",
    "        model = SVC(random_state=seed, kernel=ker, C=c, decision_function_shape='ovo')\n",
    "        cv_results = cross_val_score(model, fv_trn, fv_l_trn, cv=kf, scoring=scoring)\n",
    "        print(\"[CROSS_VAL_SCORE] Training kernal: {}, C = {}, accuracy: {:.3f}, std: {:.3f}\".format(ker,c, cv_results.mean(), cv_results.std()))\n",
    "        time_elapsed = time.time() - since\n",
    "        svm_ker_time_list[ker].append(time_elapsed)\n",
    "        svm_ker_acc[ker].append(cv_results)\n",
    "        print('[TIME_CONSUMPTION] Finishing in {:.0f}m {:.0f}s'.format(time_elapsed // 60, time_elapsed % 60))"
   ]
  },
  {
   "cell_type": "code",
   "execution_count": null,
   "metadata": {},
   "outputs": [],
   "source": [
    "fig = plt.figure(constrained_layout=True)\n",
    "gs = fig.add_gridspec(ncols=2, nrows=2)\n",
    "fig.suptitle('SVM Accuracy Distribution Loss Function', fontsize='x-large')\n",
    "\n",
    "for i, key in enumerate(svm_ker_acc.keys()):\n",
    "    ax = fig.add_subplot(gs[i // 2, i % 2])\n",
    "    plt.boxplot(svm_ker_acc[key])\n",
    "    ax.set_xticklabels([int(x) for x in svm_ker_n_list])\n",
    "    if i%2 == 0:\n",
    "        plt.ylabel('Accuracy')\n",
    "    plt.xlabel('C')\n",
    "    plt.title(key)\n",
    "    plt.xticks(rotation=45, horizontalalignment=\"center\")\n",
    "\n",
    "plt.show()\n",
    "\n",
    "\n",
    "\n",
    "fig = plt.figure(constrained_layout=True)\n",
    "gs = fig.add_gridspec(ncols=1, nrows=2)\n",
    "fig.suptitle('SVM Accuracy and Time on Loss Function', fontsize='x-large')\n",
    "\n",
    "ax1 = fig.add_subplot(gs[0,:])\n",
    "for i, key in enumerate(svm_ker_acc.keys()):\n",
    "    ax1.plot([str(int(x)) for x in svm_ker_n_list], [x.mean() for x in svm_ker_acc[key]], label=key)\n",
    "plt.ylabel('Accuracy')\n",
    "plt.xlabel('C')\n",
    "ax1.legend()\n",
    "\n",
    "ax2 = fig.add_subplot(gs[1,:])\n",
    "for i, key in enumerate(svm_ker_acc.keys()):\n",
    "    ax2.plot([str(int(x)) for x in svm_ker_n_list], svm_ker_time_list[key], label=key)\n",
    "plt.ylabel('Time')\n",
    "plt.xlabel('C')\n",
    "ax2.legend()\n",
    "plt.show()\n",
    "\n",
    "## Use poly"
   ]
  },
  {
   "cell_type": "code",
   "execution_count": null,
   "metadata": {
    "scrolled": true
   },
   "outputs": [],
   "source": [
    "# C of poly\n",
    "# degree for poly\n",
    "svm_c_list = np.linspace(1,30,30)\n",
    "svm_degree_list = range(1,21)\n",
    "svm_shape = (len(svm_c_list), len(svm_degree_list))\n",
    "svm_acc = pd.DataFrame(np.zeros(svm_shape))\n",
    "svm_acc.columns = svm_degree_list\n",
    "svm_acc.index = svm_c_list\n",
    "svm_time = pd.DataFrame(np.zeros(svm_shape))\n",
    "svm_time.columns = svm_degree_list\n",
    "svm_time.index = svm_c_list\n",
    "\n",
    "for degree in svm_degree_list:\n",
    "    for c in svm_c_list:\n",
    "        since = time.time()\n",
    "        kf = KFold(n_splits=5, shuffle=True, random_state=seed)\n",
    "        model = SVC(random_state=seed, kernel='poly', C=c, degree=degree, decision_function_shape='ovo')\n",
    "        cv_results = cross_val_score(model, fv_trn, fv_l_trn, cv=kf, scoring=scoring)\n",
    "        print(\"[CROSS_VAL_SCORE] Training kernal: poly,degree = {}, C = {}, accuracy: {:.3f}, std: {:.3f}\".format(degree, c, cv_results.mean(), cv_results.std()))\n",
    "        time_elapsed = time.time() - since\n",
    "        svm_acc.loc[c, degree] = cv_results.mean()\n",
    "        svm_time.loc[c, degree] = time_elapsed\n",
    "        print('[TIME_CONSUMPTION] Finishing in {:.0f}m {:.0f}s'.format(time_elapsed // 60, time_elapsed % 60))"
   ]
  },
  {
   "cell_type": "code",
   "execution_count": null,
   "metadata": {
    "scrolled": false
   },
   "outputs": [],
   "source": [
    "x_acc = []\n",
    "y_acc = []\n",
    "z_acc = []\n",
    "for degree in svm_degree_list:\n",
    "    for c in svm_c_list:\n",
    "        x_acc.append(degree)\n",
    "        y_acc.append(c)\n",
    "        z_acc.append(svm_acc.loc[c, degree])\n",
    "# z_acc_sigmoid = 1 / (1 + np.exp(-1 * np.array(z_acc)))\n",
    "x_time = []\n",
    "y_time = []\n",
    "z_time = []\n",
    "for degree in svm_degree_list:\n",
    "    for c in svm_c_list:\n",
    "        x_time.append(degree)\n",
    "        y_time.append(c)\n",
    "        z_time.append(svm_time.loc[c, degree])\n",
    "# z_time_sigmoid = 1 / (1 + np.exp(-1 * np.array(z_time)))"
   ]
  },
  {
   "cell_type": "code",
   "execution_count": null,
   "metadata": {},
   "outputs": [],
   "source": [
    "fig = plt.figure()\n",
    "ax = fig.add_subplot(111, projection='3d')\n",
    "ax.scatter(x_acc, y_acc, z_acc, marker='o')\n",
    "ax.set_xlabel('degree')\n",
    "ax.set_ylabel('C')\n",
    "ax.set_zlabel('accuracy')\n",
    "plt.show()"
   ]
  },
  {
   "cell_type": "code",
   "execution_count": null,
   "metadata": {},
   "outputs": [],
   "source": [
    "df_acc = pd.DataFrame({\n",
    "    'degree': x_acc,\n",
    "    'C': y_acc,\n",
    "    'accuracy': z_acc\n",
    "})\n",
    "fig = px.scatter_3d(df_acc, x='degree', y='C', z='accuracy', color='accuracy', size='accuracy', size_max=13)\n",
    "fig.show()"
   ]
  },
  {
   "cell_type": "code",
   "execution_count": null,
   "metadata": {},
   "outputs": [],
   "source": [
    "fig = plt.figure()\n",
    "ax = fig.add_subplot(111, projection='3d')\n",
    "ax.scatter(x_time, y_time, z_time, marker='o')\n",
    "ax.set_xlabel('degree')\n",
    "ax.set_ylabel('C')\n",
    "ax.set_zlabel('time')\n",
    "plt.show()"
   ]
  },
  {
   "cell_type": "code",
   "execution_count": null,
   "metadata": {},
   "outputs": [],
   "source": [
    "df_time = pd.DataFrame({\n",
    "    'degree': x_time,\n",
    "    'C': y_time,\n",
    "    'time': z_time\n",
    "})\n",
    "fig = px.scatter_3d(df_time, x='degree', y='C', z='time', color='time', size_max=13)\n",
    "fig.show()"
   ]
  },
  {
   "cell_type": "code",
   "execution_count": null,
   "metadata": {},
   "outputs": [],
   "source": [
    "i = np.array(z_acc).argmax()\n",
    "svm_c = y_acc[i]\n",
    "svm_degree = x_acc[i]\n",
    "\n",
    "print(\"C = {}, degree = {}\".format(c, degree))"
   ]
  },
  {
   "cell_type": "code",
   "execution_count": null,
   "metadata": {},
   "outputs": [],
   "source": [
    "num_trees = 1150\n",
    "models = {'LR': LogisticRegression(max_iter=1000, random_state=seed, tol=0.0001, C=1.8, warm_start=True),\n",
    "          'LDA': LinearDiscriminantAnalysis(),\n",
    "          'KNN': KNeighborsClassifier(n_neighbors = 6),\n",
    "          'CART': DecisionTreeClassifier(),\n",
    "          'RF': RandomForestClassifier(n_estimators=num_trees, random_state=seed, criterion='gini', warm_start=True),\n",
    "          'NB': GaussianNB(),\n",
    "          'SVM': SVC(random_state=seed, kernel='poly', C=svm_c, degree=svm_degree)}\n",
    "\n",
    "results = []\n",
    "names = []\n",
    "\n",
    "for name in models.keys():\n",
    "    since = time.time()\n",
    "    model = models[name]\n",
    "    kf = KFold(n_splits=4, shuffle=True, random_state=seed)\n",
    "    cv_results = cross_val_score(model, fv_trn, fv_l_trn, cv=kf, scoring=scoring)\n",
    "    results.append(cv_results)\n",
    "    names.append(name)\n",
    "    print(\"[CROSS_VAL_SCORE] Training {} : accuracy: {:.3f}, std: {:.3f}\".format(name, cv_results.mean(), cv_results.std()))\n",
    "    time_elapsed = time.time() - since\n",
    "    print('[TIME_CONSUMPTION] Finishing in {:.0f}m {:.0f}s'.format(time_elapsed // 60, time_elapsed % 60))\n",
    "    \n",
    "fig = plt.figure()\n",
    "fig.suptitle('Machine Learning algorithm comparison on training set')\n",
    "ax = fig.add_subplot(111)\n",
    "plt.boxplot(results)\n",
    "ax.set_xticklabels(names)\n",
    "plt.show()"
   ]
  },
  {
   "cell_type": "markdown",
   "metadata": {},
   "source": [
    "### Train the models and see the accuracy rate on both training and testing set"
   ]
  },
  {
   "cell_type": "code",
   "execution_count": null,
   "metadata": {},
   "outputs": [],
   "source": [
    "for key in models.keys():\n",
    "    since = time.time()\n",
    "    model = models[key]\n",
    "    model.fit(fv_trn, fv_l_trn)\n",
    "    pred = model.predict(fv_trn)\n",
    "    result = np.equal(pred, fv_l_trn)\n",
    "    accuracy = np.sum(result) / len(result)\n",
    "    print(\"[RESULT] {} accuracy on training set: {:.03f}\".format(key, accuracy))\n",
    "    pred = model.predict(fv_tst)\n",
    "    result = np.equal(pred, fv_l_tst)\n",
    "    accuracy = np.sum(result) / len(result)\n",
    "    print(\"[RESULT] {} accuracy on testing set: {:.03f}\".format(key, accuracy))\n",
    "    time_elapsed = time.time() - since\n",
    "    print('[TIME_CONSUMPTION] Finishing in {:.0f}m {:.0f}s'.format(time_elapsed // 60, time_elapsed % 60))"
   ]
  },
  {
   "cell_type": "markdown",
   "metadata": {},
   "source": [
    "### Best model: Random Froest\n",
    "We build some examples using random forest model."
   ]
  },
  {
   "cell_type": "code",
   "execution_count": null,
   "metadata": {
    "scrolled": true
   },
   "outputs": [],
   "source": [
    "best_model = models['RF']\n",
    "\n",
    "modeling_data_path = os.path.join('data_set', 'modeling_data')\n",
    "characters_folders = os.listdir(modeling_data_path)\n",
    "for character in characters_folders:\n",
    "    pic_folder = os.path.join(modeling_data_path, character)\n",
    "    all_pics = os.listdir(pic_folder)\n",
    "    sampling = random.choices(all_pics, k=2)\n",
    "    for pic in sampling:\n",
    "        pic_dir = os.path.join(pic_folder, pic)\n",
    "        image = cv2.imread(pic_dir)\n",
    "        display_image = cv2.cvtColor(image, cv2.COLOR_BGR2RGB)\n",
    "        pic_feature = loader.extract_single_image(pic_dir)\n",
    "        pic_feature = normalizer.transform(np.array([pic_feature]))\n",
    "        # print(pic_feature.shape)\n",
    "        pred_result = best_model.predict(pic_feature)[0]\n",
    "        pred_result = name_label_map[pred_result]\n",
    "        # print(pred_result)\n",
    "        plt.imshow(display_image)\n",
    "        plt.title(\"Prediction: {}, Truth: {}\".format(pred_result, character))\n",
    "        plt.show()"
   ]
  },
  {
   "cell_type": "markdown",
   "metadata": {},
   "source": [
    "### Confusion Matrix"
   ]
  },
  {
   "cell_type": "code",
   "execution_count": null,
   "metadata": {
    "scrolled": false
   },
   "outputs": [],
   "source": [
    "for key in models.keys():\n",
    "    model = models[key]\n",
    "    disp = plot_confusion_matrix(model, fv_tst, fv_l_tst,\n",
    "                                 display_labels=name_label_map,\n",
    "                                 cmap=plt.cm.Blues,\n",
    "                                 normalize='true')\n",
    "    plt.xticks(rotation='vertical', horizontalalignment=\"center\")\n",
    "    disp.ax_.set_title(\"Confusion Matrix On test set: {}\".format(key))\n",
    "    plt.show()"
   ]
  },
  {
   "cell_type": "code",
   "execution_count": null,
   "metadata": {},
   "outputs": [],
   "source": []
  }
 ],
 "metadata": {
  "kernelspec": {
   "display_name": "Python 3",
   "language": "python",
   "name": "python3"
  },
  "language_info": {
   "codemirror_mode": {
    "name": "ipython",
    "version": 3
   },
   "file_extension": ".py",
   "mimetype": "text/x-python",
   "name": "python",
   "nbconvert_exporter": "python",
   "pygments_lexer": "ipython3",
   "version": "3.8.1"
  }
 },
 "nbformat": 4,
 "nbformat_minor": 1
}
